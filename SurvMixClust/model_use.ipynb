{
 "cells": [
  {
   "cell_type": "markdown",
   "id": "579711cf-5e23-4e13-90d3-ab58936fe11b",
   "metadata": {
    "tags": []
   },
   "source": [
    "# Loading data"
   ]
  },
  {
   "cell_type": "code",
   "execution_count": 13,
   "id": "0921a843-c1d6-414f-83d7-8d28debf174d",
   "metadata": {},
   "outputs": [],
   "source": [
    "%load_ext autoreload\n",
    "%autoreload 2"
   ]
  },
  {
   "cell_type": "code",
   "execution_count": 1,
   "id": "47c52de5",
   "metadata": {},
   "outputs": [],
   "source": [
    "import numpy as np\n",
    "import pandas as pd\n",
    "from sklearn.model_selection import train_test_split"
   ]
  },
  {
   "cell_type": "code",
   "execution_count": 2,
   "id": "20fce5f5",
   "metadata": {},
   "outputs": [],
   "source": [
    "df_surv = pd.read_pickle('survival_dataset.pkl')"
   ]
  },
  {
   "cell_type": "code",
   "execution_count": 3,
   "id": "3a87cec3",
   "metadata": {},
   "outputs": [
    {
     "data": {
      "text/html": [
       "<div>\n",
       "<style scoped>\n",
       "    .dataframe tbody tr th:only-of-type {\n",
       "        vertical-align: middle;\n",
       "    }\n",
       "\n",
       "    .dataframe tbody tr th {\n",
       "        vertical-align: top;\n",
       "    }\n",
       "\n",
       "    .dataframe thead th {\n",
       "        text-align: right;\n",
       "    }\n",
       "</style>\n",
       "<table border=\"1\" class=\"dataframe\">\n",
       "  <thead>\n",
       "    <tr style=\"text-align: right;\">\n",
       "      <th></th>\n",
       "      <th>time</th>\n",
       "      <th>throughput_download</th>\n",
       "      <th>throughput_upload</th>\n",
       "      <th>rtt_download</th>\n",
       "      <th>rtt_upload</th>\n",
       "      <th>event</th>\n",
       "      <th>client_dca6326b9b52</th>\n",
       "      <th>client_dca6326b9c99</th>\n",
       "      <th>client_dca6326b9ca8</th>\n",
       "      <th>client_e45f011e2d20</th>\n",
       "      <th>...</th>\n",
       "      <th>client_e45f01963bb8</th>\n",
       "      <th>client_e45f01963c21</th>\n",
       "      <th>client_e45f01ad569d</th>\n",
       "      <th>client_e45f01b4bb1e</th>\n",
       "      <th>client_e45f01b4bbc1</th>\n",
       "      <th>site_gru03</th>\n",
       "      <th>site_gru05</th>\n",
       "      <th>site_gru06</th>\n",
       "      <th>site_rnp_rj</th>\n",
       "      <th>site_rnp_sp</th>\n",
       "    </tr>\n",
       "  </thead>\n",
       "  <tbody>\n",
       "    <tr>\n",
       "      <th>count</th>\n",
       "      <td>225.000000</td>\n",
       "      <td>225.000000</td>\n",
       "      <td>225.000000</td>\n",
       "      <td>225.000000</td>\n",
       "      <td>225.000000</td>\n",
       "      <td>225.000000</td>\n",
       "      <td>225.000000</td>\n",
       "      <td>225.000000</td>\n",
       "      <td>225.000000</td>\n",
       "      <td>225.000000</td>\n",
       "      <td>...</td>\n",
       "      <td>225.000000</td>\n",
       "      <td>225.000000</td>\n",
       "      <td>225.000000</td>\n",
       "      <td>225.000000</td>\n",
       "      <td>225.000000</td>\n",
       "      <td>225.000000</td>\n",
       "      <td>225.000000</td>\n",
       "      <td>225.000000</td>\n",
       "      <td>225.000000</td>\n",
       "      <td>225.000000</td>\n",
       "    </tr>\n",
       "    <tr>\n",
       "      <th>mean</th>\n",
       "      <td>19.258194</td>\n",
       "      <td>521.747013</td>\n",
       "      <td>537.090844</td>\n",
       "      <td>40.128627</td>\n",
       "      <td>41.506591</td>\n",
       "      <td>0.568889</td>\n",
       "      <td>0.062222</td>\n",
       "      <td>0.057778</td>\n",
       "      <td>0.035556</td>\n",
       "      <td>0.057778</td>\n",
       "      <td>...</td>\n",
       "      <td>0.057778</td>\n",
       "      <td>0.048889</td>\n",
       "      <td>0.097778</td>\n",
       "      <td>0.066667</td>\n",
       "      <td>0.008889</td>\n",
       "      <td>0.248889</td>\n",
       "      <td>0.088889</td>\n",
       "      <td>0.102222</td>\n",
       "      <td>0.315556</td>\n",
       "      <td>0.244444</td>\n",
       "    </tr>\n",
       "    <tr>\n",
       "      <th>std</th>\n",
       "      <td>20.936244</td>\n",
       "      <td>277.612675</td>\n",
       "      <td>297.539649</td>\n",
       "      <td>55.423398</td>\n",
       "      <td>56.685597</td>\n",
       "      <td>0.496336</td>\n",
       "      <td>0.242097</td>\n",
       "      <td>0.233843</td>\n",
       "      <td>0.185592</td>\n",
       "      <td>0.233843</td>\n",
       "      <td>...</td>\n",
       "      <td>0.233843</td>\n",
       "      <td>0.216117</td>\n",
       "      <td>0.297676</td>\n",
       "      <td>0.250000</td>\n",
       "      <td>0.094070</td>\n",
       "      <td>0.433333</td>\n",
       "      <td>0.285218</td>\n",
       "      <td>0.303616</td>\n",
       "      <td>0.465773</td>\n",
       "      <td>0.430716</td>\n",
       "    </tr>\n",
       "    <tr>\n",
       "      <th>min</th>\n",
       "      <td>0.245694</td>\n",
       "      <td>0.188000</td>\n",
       "      <td>67.969000</td>\n",
       "      <td>2.382000</td>\n",
       "      <td>2.215000</td>\n",
       "      <td>0.000000</td>\n",
       "      <td>0.000000</td>\n",
       "      <td>0.000000</td>\n",
       "      <td>0.000000</td>\n",
       "      <td>0.000000</td>\n",
       "      <td>...</td>\n",
       "      <td>0.000000</td>\n",
       "      <td>0.000000</td>\n",
       "      <td>0.000000</td>\n",
       "      <td>0.000000</td>\n",
       "      <td>0.000000</td>\n",
       "      <td>0.000000</td>\n",
       "      <td>0.000000</td>\n",
       "      <td>0.000000</td>\n",
       "      <td>0.000000</td>\n",
       "      <td>0.000000</td>\n",
       "    </tr>\n",
       "    <tr>\n",
       "      <th>25%</th>\n",
       "      <td>4.253345</td>\n",
       "      <td>184.725000</td>\n",
       "      <td>248.380000</td>\n",
       "      <td>13.317000</td>\n",
       "      <td>12.391000</td>\n",
       "      <td>0.000000</td>\n",
       "      <td>0.000000</td>\n",
       "      <td>0.000000</td>\n",
       "      <td>0.000000</td>\n",
       "      <td>0.000000</td>\n",
       "      <td>...</td>\n",
       "      <td>0.000000</td>\n",
       "      <td>0.000000</td>\n",
       "      <td>0.000000</td>\n",
       "      <td>0.000000</td>\n",
       "      <td>0.000000</td>\n",
       "      <td>0.000000</td>\n",
       "      <td>0.000000</td>\n",
       "      <td>0.000000</td>\n",
       "      <td>0.000000</td>\n",
       "      <td>0.000000</td>\n",
       "    </tr>\n",
       "    <tr>\n",
       "      <th>50%</th>\n",
       "      <td>11.196690</td>\n",
       "      <td>590.790000</td>\n",
       "      <td>600.110000</td>\n",
       "      <td>16.248000</td>\n",
       "      <td>15.265000</td>\n",
       "      <td>1.000000</td>\n",
       "      <td>0.000000</td>\n",
       "      <td>0.000000</td>\n",
       "      <td>0.000000</td>\n",
       "      <td>0.000000</td>\n",
       "      <td>...</td>\n",
       "      <td>0.000000</td>\n",
       "      <td>0.000000</td>\n",
       "      <td>0.000000</td>\n",
       "      <td>0.000000</td>\n",
       "      <td>0.000000</td>\n",
       "      <td>0.000000</td>\n",
       "      <td>0.000000</td>\n",
       "      <td>0.000000</td>\n",
       "      <td>0.000000</td>\n",
       "      <td>0.000000</td>\n",
       "    </tr>\n",
       "    <tr>\n",
       "      <th>75%</th>\n",
       "      <td>27.283808</td>\n",
       "      <td>729.201000</td>\n",
       "      <td>844.276000</td>\n",
       "      <td>21.758000</td>\n",
       "      <td>23.862000</td>\n",
       "      <td>1.000000</td>\n",
       "      <td>0.000000</td>\n",
       "      <td>0.000000</td>\n",
       "      <td>0.000000</td>\n",
       "      <td>0.000000</td>\n",
       "      <td>...</td>\n",
       "      <td>0.000000</td>\n",
       "      <td>0.000000</td>\n",
       "      <td>0.000000</td>\n",
       "      <td>0.000000</td>\n",
       "      <td>0.000000</td>\n",
       "      <td>0.000000</td>\n",
       "      <td>0.000000</td>\n",
       "      <td>0.000000</td>\n",
       "      <td>1.000000</td>\n",
       "      <td>0.000000</td>\n",
       "    </tr>\n",
       "    <tr>\n",
       "      <th>max</th>\n",
       "      <td>83.446192</td>\n",
       "      <td>921.128000</td>\n",
       "      <td>914.006000</td>\n",
       "      <td>239.249000</td>\n",
       "      <td>245.334000</td>\n",
       "      <td>1.000000</td>\n",
       "      <td>1.000000</td>\n",
       "      <td>1.000000</td>\n",
       "      <td>1.000000</td>\n",
       "      <td>1.000000</td>\n",
       "      <td>...</td>\n",
       "      <td>1.000000</td>\n",
       "      <td>1.000000</td>\n",
       "      <td>1.000000</td>\n",
       "      <td>1.000000</td>\n",
       "      <td>1.000000</td>\n",
       "      <td>1.000000</td>\n",
       "      <td>1.000000</td>\n",
       "      <td>1.000000</td>\n",
       "      <td>1.000000</td>\n",
       "      <td>1.000000</td>\n",
       "    </tr>\n",
       "  </tbody>\n",
       "</table>\n",
       "<p>8 rows × 27 columns</p>\n",
       "</div>"
      ],
      "text/plain": [
       "             time  throughput_download  throughput_upload  rtt_download  \\\n",
       "count  225.000000           225.000000         225.000000    225.000000   \n",
       "mean    19.258194           521.747013         537.090844     40.128627   \n",
       "std     20.936244           277.612675         297.539649     55.423398   \n",
       "min      0.245694             0.188000          67.969000      2.382000   \n",
       "25%      4.253345           184.725000         248.380000     13.317000   \n",
       "50%     11.196690           590.790000         600.110000     16.248000   \n",
       "75%     27.283808           729.201000         844.276000     21.758000   \n",
       "max     83.446192           921.128000         914.006000    239.249000   \n",
       "\n",
       "       rtt_upload       event  client_dca6326b9b52  client_dca6326b9c99  \\\n",
       "count  225.000000  225.000000           225.000000           225.000000   \n",
       "mean    41.506591    0.568889             0.062222             0.057778   \n",
       "std     56.685597    0.496336             0.242097             0.233843   \n",
       "min      2.215000    0.000000             0.000000             0.000000   \n",
       "25%     12.391000    0.000000             0.000000             0.000000   \n",
       "50%     15.265000    1.000000             0.000000             0.000000   \n",
       "75%     23.862000    1.000000             0.000000             0.000000   \n",
       "max    245.334000    1.000000             1.000000             1.000000   \n",
       "\n",
       "       client_dca6326b9ca8  client_e45f011e2d20  ...  client_e45f01963bb8  \\\n",
       "count           225.000000           225.000000  ...           225.000000   \n",
       "mean              0.035556             0.057778  ...             0.057778   \n",
       "std               0.185592             0.233843  ...             0.233843   \n",
       "min               0.000000             0.000000  ...             0.000000   \n",
       "25%               0.000000             0.000000  ...             0.000000   \n",
       "50%               0.000000             0.000000  ...             0.000000   \n",
       "75%               0.000000             0.000000  ...             0.000000   \n",
       "max               1.000000             1.000000  ...             1.000000   \n",
       "\n",
       "       client_e45f01963c21  client_e45f01ad569d  client_e45f01b4bb1e  \\\n",
       "count           225.000000           225.000000           225.000000   \n",
       "mean              0.048889             0.097778             0.066667   \n",
       "std               0.216117             0.297676             0.250000   \n",
       "min               0.000000             0.000000             0.000000   \n",
       "25%               0.000000             0.000000             0.000000   \n",
       "50%               0.000000             0.000000             0.000000   \n",
       "75%               0.000000             0.000000             0.000000   \n",
       "max               1.000000             1.000000             1.000000   \n",
       "\n",
       "       client_e45f01b4bbc1  site_gru03  site_gru05  site_gru06  site_rnp_rj  \\\n",
       "count           225.000000  225.000000  225.000000  225.000000   225.000000   \n",
       "mean              0.008889    0.248889    0.088889    0.102222     0.315556   \n",
       "std               0.094070    0.433333    0.285218    0.303616     0.465773   \n",
       "min               0.000000    0.000000    0.000000    0.000000     0.000000   \n",
       "25%               0.000000    0.000000    0.000000    0.000000     0.000000   \n",
       "50%               0.000000    0.000000    0.000000    0.000000     0.000000   \n",
       "75%               0.000000    0.000000    0.000000    0.000000     1.000000   \n",
       "max               1.000000    1.000000    1.000000    1.000000     1.000000   \n",
       "\n",
       "       site_rnp_sp  \n",
       "count   225.000000  \n",
       "mean      0.244444  \n",
       "std       0.430716  \n",
       "min       0.000000  \n",
       "25%       0.000000  \n",
       "50%       0.000000  \n",
       "75%       0.000000  \n",
       "max       1.000000  \n",
       "\n",
       "[8 rows x 27 columns]"
      ]
     },
     "execution_count": 3,
     "metadata": {},
     "output_type": "execute_result"
    }
   ],
   "source": [
    "df_surv.describe()"
   ]
  },
  {
   "cell_type": "code",
   "execution_count": 11,
   "id": "da1d8ec9",
   "metadata": {},
   "outputs": [
    {
     "ename": "ModuleNotFoundError",
     "evalue": "No module named 'pandas.core.indexes.numeric'",
     "output_type": "error",
     "traceback": [
      "\u001b[0;31m---------------------------------------------------------------------------\u001b[0m",
      "\u001b[0;31mModuleNotFoundError\u001b[0m                       Traceback (most recent call last)",
      "Cell \u001b[0;32mIn[11], line 3\u001b[0m\n\u001b[1;32m      1\u001b[0m \u001b[38;5;28;01mimport\u001b[39;00m \u001b[38;5;21;01mpickle\u001b[39;00m\n\u001b[1;32m      2\u001b[0m \u001b[38;5;28;01mwith\u001b[39;00m \u001b[38;5;28mopen\u001b[39m(\u001b[38;5;124m'\u001b[39m\u001b[38;5;124m./datasets/dict_dataset_name_2_strats__v1.pkl\u001b[39m\u001b[38;5;124m'\u001b[39m, \u001b[38;5;124m'\u001b[39m\u001b[38;5;124mrb\u001b[39m\u001b[38;5;124m'\u001b[39m) \u001b[38;5;28;01mas\u001b[39;00m f:\n\u001b[0;32m----> 3\u001b[0m     dict_dataset_name_2_strats \u001b[38;5;241m=\u001b[39m \u001b[43mpickle\u001b[49m\u001b[38;5;241;43m.\u001b[39;49m\u001b[43mload\u001b[49m\u001b[43m(\u001b[49m\u001b[43mf\u001b[49m\u001b[43m)\u001b[49m\n\u001b[1;32m      4\u001b[0m \u001b[38;5;28;01mwith\u001b[39;00m \u001b[38;5;28mopen\u001b[39m(\u001b[38;5;124m'\u001b[39m\u001b[38;5;124m./datasets/dict_list_names.pkl\u001b[39m\u001b[38;5;124m'\u001b[39m, \u001b[38;5;124m'\u001b[39m\u001b[38;5;124mrb\u001b[39m\u001b[38;5;124m'\u001b[39m) \u001b[38;5;28;01mas\u001b[39;00m f:\n\u001b[1;32m      5\u001b[0m     dict_list_names \u001b[38;5;241m=\u001b[39m pickle\u001b[38;5;241m.\u001b[39mload(f)\n",
      "\u001b[0;31mModuleNotFoundError\u001b[0m: No module named 'pandas.core.indexes.numeric'"
     ]
    }
   ],
   "source": [
    "import pickle\n",
    "with open('./datasets/dict_dataset_name_2_strats__v1.pkl', 'rb') as f:\n",
    "    dict_dataset_name_2_strats = pickle.load(f)\n",
    "with open('./datasets/dict_list_names.pkl', 'rb') as f:\n",
    "    dict_list_names = pickle.load(f)"
   ]
  },
  {
   "cell_type": "code",
   "execution_count": 16,
   "id": "55bb3f08",
   "metadata": {},
   "outputs": [
    {
     "data": {
      "text/html": [
       "<div>\n",
       "<style scoped>\n",
       "    .dataframe tbody tr th:only-of-type {\n",
       "        vertical-align: middle;\n",
       "    }\n",
       "\n",
       "    .dataframe tbody tr th {\n",
       "        vertical-align: top;\n",
       "    }\n",
       "\n",
       "    .dataframe thead th {\n",
       "        text-align: right;\n",
       "    }\n",
       "</style>\n",
       "<table border=\"1\" class=\"dataframe\">\n",
       "  <thead>\n",
       "    <tr style=\"text-align: right;\">\n",
       "      <th></th>\n",
       "      <th>age</th>\n",
       "      <th>bmi</th>\n",
       "      <th>diasbp</th>\n",
       "      <th>hr</th>\n",
       "      <th>los</th>\n",
       "      <th>sysbp</th>\n",
       "      <th>afb_1</th>\n",
       "      <th>av3_1</th>\n",
       "      <th>chf_1</th>\n",
       "      <th>cvd_1</th>\n",
       "      <th>gender_1</th>\n",
       "      <th>miord_1</th>\n",
       "      <th>mitype_1</th>\n",
       "      <th>sho_1</th>\n",
       "      <th>time</th>\n",
       "      <th>event</th>\n",
       "    </tr>\n",
       "  </thead>\n",
       "  <tbody>\n",
       "    <tr>\n",
       "      <th>0</th>\n",
       "      <td>0.908616</td>\n",
       "      <td>-0.198745</td>\n",
       "      <td>-0.012358</td>\n",
       "      <td>0.084116</td>\n",
       "      <td>-0.236972</td>\n",
       "      <td>0.226145</td>\n",
       "      <td>1.0</td>\n",
       "      <td>0.0</td>\n",
       "      <td>0.0</td>\n",
       "      <td>1.0</td>\n",
       "      <td>0.0</td>\n",
       "      <td>1.0</td>\n",
       "      <td>0.0</td>\n",
       "      <td>0.0</td>\n",
       "      <td>2178</td>\n",
       "      <td>0</td>\n",
       "    </tr>\n",
       "    <tr>\n",
       "      <th>1</th>\n",
       "      <td>-1.439943</td>\n",
       "      <td>-0.479571</td>\n",
       "      <td>-0.848644</td>\n",
       "      <td>-0.128084</td>\n",
       "      <td>-0.236972</td>\n",
       "      <td>-0.765717</td>\n",
       "      <td>0.0</td>\n",
       "      <td>0.0</td>\n",
       "      <td>0.0</td>\n",
       "      <td>1.0</td>\n",
       "      <td>0.0</td>\n",
       "      <td>0.0</td>\n",
       "      <td>1.0</td>\n",
       "      <td>0.0</td>\n",
       "      <td>2172</td>\n",
       "      <td>0</td>\n",
       "    </tr>\n",
       "    <tr>\n",
       "      <th>2</th>\n",
       "      <td>0.010638</td>\n",
       "      <td>-0.827903</td>\n",
       "      <td>0.452245</td>\n",
       "      <td>-0.170524</td>\n",
       "      <td>-0.236972</td>\n",
       "      <td>0.071166</td>\n",
       "      <td>0.0</td>\n",
       "      <td>0.0</td>\n",
       "      <td>0.0</td>\n",
       "      <td>0.0</td>\n",
       "      <td>1.0</td>\n",
       "      <td>0.0</td>\n",
       "      <td>1.0</td>\n",
       "      <td>0.0</td>\n",
       "      <td>2190</td>\n",
       "      <td>0</td>\n",
       "    </tr>\n",
       "    <tr>\n",
       "      <th>3</th>\n",
       "      <td>0.010638</td>\n",
       "      <td>0.003350</td>\n",
       "      <td>-0.105279</td>\n",
       "      <td>-0.934446</td>\n",
       "      <td>0.824732</td>\n",
       "      <td>-0.672730</td>\n",
       "      <td>0.0</td>\n",
       "      <td>0.0</td>\n",
       "      <td>1.0</td>\n",
       "      <td>1.0</td>\n",
       "      <td>0.0</td>\n",
       "      <td>0.0</td>\n",
       "      <td>1.0</td>\n",
       "      <td>0.0</td>\n",
       "      <td>297</td>\n",
       "      <td>1</td>\n",
       "    </tr>\n",
       "    <tr>\n",
       "      <th>4</th>\n",
       "      <td>0.010638</td>\n",
       "      <td>-0.407617</td>\n",
       "      <td>0.312864</td>\n",
       "      <td>-1.019326</td>\n",
       "      <td>-0.024632</td>\n",
       "      <td>-0.300782</td>\n",
       "      <td>0.0</td>\n",
       "      <td>0.0</td>\n",
       "      <td>0.0</td>\n",
       "      <td>1.0</td>\n",
       "      <td>0.0</td>\n",
       "      <td>0.0</td>\n",
       "      <td>1.0</td>\n",
       "      <td>0.0</td>\n",
       "      <td>2131</td>\n",
       "      <td>0</td>\n",
       "    </tr>\n",
       "    <tr>\n",
       "      <th>...</th>\n",
       "      <td>...</td>\n",
       "      <td>...</td>\n",
       "      <td>...</td>\n",
       "      <td>...</td>\n",
       "      <td>...</td>\n",
       "      <td>...</td>\n",
       "      <td>...</td>\n",
       "      <td>...</td>\n",
       "      <td>...</td>\n",
       "      <td>...</td>\n",
       "      <td>...</td>\n",
       "      <td>...</td>\n",
       "      <td>...</td>\n",
       "      <td>...</td>\n",
       "      <td>...</td>\n",
       "      <td>...</td>\n",
       "    </tr>\n",
       "    <tr>\n",
       "      <th>495</th>\n",
       "      <td>0.425089</td>\n",
       "      <td>0.250129</td>\n",
       "      <td>0.452245</td>\n",
       "      <td>-0.807125</td>\n",
       "      <td>-1.086336</td>\n",
       "      <td>-1.013683</td>\n",
       "      <td>1.0</td>\n",
       "      <td>0.0</td>\n",
       "      <td>0.0</td>\n",
       "      <td>1.0</td>\n",
       "      <td>1.0</td>\n",
       "      <td>0.0</td>\n",
       "      <td>1.0</td>\n",
       "      <td>0.0</td>\n",
       "      <td>10</td>\n",
       "      <td>1</td>\n",
       "    </tr>\n",
       "    <tr>\n",
       "      <th>496</th>\n",
       "      <td>0.425089</td>\n",
       "      <td>-0.434269</td>\n",
       "      <td>0.823928</td>\n",
       "      <td>0.041676</td>\n",
       "      <td>-0.661654</td>\n",
       "      <td>1.961903</td>\n",
       "      <td>0.0</td>\n",
       "      <td>0.0</td>\n",
       "      <td>0.0</td>\n",
       "      <td>1.0</td>\n",
       "      <td>1.0</td>\n",
       "      <td>0.0</td>\n",
       "      <td>0.0</td>\n",
       "      <td>0.0</td>\n",
       "      <td>662</td>\n",
       "      <td>0</td>\n",
       "    </tr>\n",
       "    <tr>\n",
       "      <th>497</th>\n",
       "      <td>-0.887341</td>\n",
       "      <td>2.874309</td>\n",
       "      <td>-0.198200</td>\n",
       "      <td>1.527079</td>\n",
       "      <td>-0.661654</td>\n",
       "      <td>-0.765717</td>\n",
       "      <td>1.0</td>\n",
       "      <td>0.0</td>\n",
       "      <td>0.0</td>\n",
       "      <td>1.0</td>\n",
       "      <td>1.0</td>\n",
       "      <td>0.0</td>\n",
       "      <td>0.0</td>\n",
       "      <td>0.0</td>\n",
       "      <td>725</td>\n",
       "      <td>0</td>\n",
       "    </tr>\n",
       "    <tr>\n",
       "      <th>498</th>\n",
       "      <td>-0.196588</td>\n",
       "      <td>0.147266</td>\n",
       "      <td>-0.755724</td>\n",
       "      <td>-1.189086</td>\n",
       "      <td>-1.086336</td>\n",
       "      <td>-1.013683</td>\n",
       "      <td>0.0</td>\n",
       "      <td>0.0</td>\n",
       "      <td>0.0</td>\n",
       "      <td>1.0</td>\n",
       "      <td>0.0</td>\n",
       "      <td>0.0</td>\n",
       "      <td>1.0</td>\n",
       "      <td>0.0</td>\n",
       "      <td>532</td>\n",
       "      <td>0</td>\n",
       "    </tr>\n",
       "    <tr>\n",
       "      <th>499</th>\n",
       "      <td>1.944746</td>\n",
       "      <td>-1.319945</td>\n",
       "      <td>1.009769</td>\n",
       "      <td>0.508517</td>\n",
       "      <td>-0.661654</td>\n",
       "      <td>0.474110</td>\n",
       "      <td>0.0</td>\n",
       "      <td>0.0</td>\n",
       "      <td>0.0</td>\n",
       "      <td>1.0</td>\n",
       "      <td>0.0</td>\n",
       "      <td>0.0</td>\n",
       "      <td>1.0</td>\n",
       "      <td>0.0</td>\n",
       "      <td>259</td>\n",
       "      <td>1</td>\n",
       "    </tr>\n",
       "  </tbody>\n",
       "</table>\n",
       "<p>500 rows × 16 columns</p>\n",
       "</div>"
      ],
      "text/plain": [
       "          age       bmi    diasbp        hr       los     sysbp  afb_1  av3_1  \\\n",
       "0    0.908616 -0.198745 -0.012358  0.084116 -0.236972  0.226145    1.0    0.0   \n",
       "1   -1.439943 -0.479571 -0.848644 -0.128084 -0.236972 -0.765717    0.0    0.0   \n",
       "2    0.010638 -0.827903  0.452245 -0.170524 -0.236972  0.071166    0.0    0.0   \n",
       "3    0.010638  0.003350 -0.105279 -0.934446  0.824732 -0.672730    0.0    0.0   \n",
       "4    0.010638 -0.407617  0.312864 -1.019326 -0.024632 -0.300782    0.0    0.0   \n",
       "..        ...       ...       ...       ...       ...       ...    ...    ...   \n",
       "495  0.425089  0.250129  0.452245 -0.807125 -1.086336 -1.013683    1.0    0.0   \n",
       "496  0.425089 -0.434269  0.823928  0.041676 -0.661654  1.961903    0.0    0.0   \n",
       "497 -0.887341  2.874309 -0.198200  1.527079 -0.661654 -0.765717    1.0    0.0   \n",
       "498 -0.196588  0.147266 -0.755724 -1.189086 -1.086336 -1.013683    0.0    0.0   \n",
       "499  1.944746 -1.319945  1.009769  0.508517 -0.661654  0.474110    0.0    0.0   \n",
       "\n",
       "     chf_1  cvd_1  gender_1  miord_1  mitype_1  sho_1  time  event  \n",
       "0      0.0    1.0       0.0      1.0       0.0    0.0  2178      0  \n",
       "1      0.0    1.0       0.0      0.0       1.0    0.0  2172      0  \n",
       "2      0.0    0.0       1.0      0.0       1.0    0.0  2190      0  \n",
       "3      1.0    1.0       0.0      0.0       1.0    0.0   297      1  \n",
       "4      0.0    1.0       0.0      0.0       1.0    0.0  2131      0  \n",
       "..     ...    ...       ...      ...       ...    ...   ...    ...  \n",
       "495    0.0    1.0       1.0      0.0       1.0    0.0    10      1  \n",
       "496    0.0    1.0       1.0      0.0       0.0    0.0   662      0  \n",
       "497    0.0    1.0       1.0      0.0       0.0    0.0   725      0  \n",
       "498    0.0    1.0       0.0      0.0       1.0    0.0   532      0  \n",
       "499    0.0    1.0       0.0      0.0       1.0    0.0   259      1  \n",
       "\n",
       "[500 rows x 16 columns]"
      ]
     },
     "execution_count": 16,
     "metadata": {},
     "output_type": "execute_result"
    }
   ],
   "source": [
    "dict_dataset_name_2_strats['whas500']['dataset']"
   ]
  },
  {
   "cell_type": "markdown",
   "id": "794cb31f-4b5d-445d-bd62-d4fe815c8a3b",
   "metadata": {},
   "source": [
    "### Choosing dataset \"metabric\" and division 2."
   ]
  },
  {
   "cell_type": "code",
   "execution_count": 4,
   "id": "a0febc5a-d709-4551-8d4f-8d346cf60251",
   "metadata": {
    "tags": []
   },
   "outputs": [],
   "source": [
    "# Dividindo em treinamento, validação e teste\n",
    "train_set_full, test_set = train_test_split(df_surv, test_size=0.1, random_state=83)\n",
    "train_set, val_set = train_test_split(train_set_full, test_size=0.1, random_state=83)"
   ]
  },
  {
   "cell_type": "code",
   "execution_count": 5,
   "id": "ab60ce81",
   "metadata": {},
   "outputs": [],
   "source": [
    "from utils import y_array"
   ]
  },
  {
   "cell_type": "code",
   "execution_count": 6,
   "id": "cd64b873",
   "metadata": {},
   "outputs": [],
   "source": [
    "# Ajustar RobustScaler aos dados de treinamento e aplicar aos conjuntos de treinamento, validação e teste\n",
    "from sklearn.preprocessing import StandardScaler\n",
    "\n",
    "fea = ['throughput_download', 'throughput_upload', 'rtt_download', 'rtt_upload']\n",
    "\n",
    "scaler = StandardScaler()\n",
    "train_set_scaled = train_set.copy()\n",
    "train_set_scaled[fea] = scaler.fit_transform(train_set[fea])\n",
    "val_set_scaled = val_set.copy()\n",
    "val_set_scaled[fea] = scaler.transform(val_set[fea])\n",
    "test_set_scaled = test_set.copy()\n",
    "test_set_scaled[fea] = scaler.transform(test_set[fea])"
   ]
  },
  {
   "cell_type": "code",
   "execution_count": 7,
   "id": "0b8caeb1",
   "metadata": {},
   "outputs": [
    {
     "data": {
      "text/html": [
       "<div>\n",
       "<style scoped>\n",
       "    .dataframe tbody tr th:only-of-type {\n",
       "        vertical-align: middle;\n",
       "    }\n",
       "\n",
       "    .dataframe tbody tr th {\n",
       "        vertical-align: top;\n",
       "    }\n",
       "\n",
       "    .dataframe thead th {\n",
       "        text-align: right;\n",
       "    }\n",
       "</style>\n",
       "<table border=\"1\" class=\"dataframe\">\n",
       "  <thead>\n",
       "    <tr style=\"text-align: right;\">\n",
       "      <th></th>\n",
       "      <th>time</th>\n",
       "      <th>throughput_download</th>\n",
       "      <th>throughput_upload</th>\n",
       "      <th>rtt_download</th>\n",
       "      <th>rtt_upload</th>\n",
       "      <th>event</th>\n",
       "      <th>client_dca6326b9b52</th>\n",
       "      <th>client_dca6326b9c99</th>\n",
       "      <th>client_dca6326b9ca8</th>\n",
       "      <th>client_e45f011e2d20</th>\n",
       "      <th>...</th>\n",
       "      <th>client_e45f01963bb8</th>\n",
       "      <th>client_e45f01963c21</th>\n",
       "      <th>client_e45f01ad569d</th>\n",
       "      <th>client_e45f01b4bb1e</th>\n",
       "      <th>client_e45f01b4bbc1</th>\n",
       "      <th>site_gru03</th>\n",
       "      <th>site_gru05</th>\n",
       "      <th>site_gru06</th>\n",
       "      <th>site_rnp_rj</th>\n",
       "      <th>site_rnp_sp</th>\n",
       "    </tr>\n",
       "  </thead>\n",
       "  <tbody>\n",
       "    <tr>\n",
       "      <th>119</th>\n",
       "      <td>5.974201</td>\n",
       "      <td>-1.610465</td>\n",
       "      <td>-1.430899</td>\n",
       "      <td>3.000679</td>\n",
       "      <td>2.979957</td>\n",
       "      <td>1</td>\n",
       "      <td>0</td>\n",
       "      <td>0</td>\n",
       "      <td>0</td>\n",
       "      <td>0</td>\n",
       "      <td>...</td>\n",
       "      <td>0</td>\n",
       "      <td>0</td>\n",
       "      <td>1</td>\n",
       "      <td>0</td>\n",
       "      <td>0</td>\n",
       "      <td>1</td>\n",
       "      <td>0</td>\n",
       "      <td>0</td>\n",
       "      <td>0</td>\n",
       "      <td>0</td>\n",
       "    </tr>\n",
       "    <tr>\n",
       "      <th>9</th>\n",
       "      <td>29.567384</td>\n",
       "      <td>0.620310</td>\n",
       "      <td>1.135863</td>\n",
       "      <td>-0.476385</td>\n",
       "      <td>-0.497858</td>\n",
       "      <td>0</td>\n",
       "      <td>0</td>\n",
       "      <td>0</td>\n",
       "      <td>0</td>\n",
       "      <td>0</td>\n",
       "      <td>...</td>\n",
       "      <td>1</td>\n",
       "      <td>0</td>\n",
       "      <td>0</td>\n",
       "      <td>0</td>\n",
       "      <td>0</td>\n",
       "      <td>0</td>\n",
       "      <td>1</td>\n",
       "      <td>0</td>\n",
       "      <td>0</td>\n",
       "      <td>0</td>\n",
       "    </tr>\n",
       "    <tr>\n",
       "      <th>101</th>\n",
       "      <td>2.848623</td>\n",
       "      <td>-1.312473</td>\n",
       "      <td>-1.147941</td>\n",
       "      <td>1.333499</td>\n",
       "      <td>1.334220</td>\n",
       "      <td>1</td>\n",
       "      <td>0</td>\n",
       "      <td>0</td>\n",
       "      <td>0</td>\n",
       "      <td>0</td>\n",
       "      <td>...</td>\n",
       "      <td>0</td>\n",
       "      <td>0</td>\n",
       "      <td>0</td>\n",
       "      <td>1</td>\n",
       "      <td>0</td>\n",
       "      <td>1</td>\n",
       "      <td>0</td>\n",
       "      <td>0</td>\n",
       "      <td>0</td>\n",
       "      <td>0</td>\n",
       "    </tr>\n",
       "    <tr>\n",
       "      <th>157</th>\n",
       "      <td>7.330926</td>\n",
       "      <td>0.691352</td>\n",
       "      <td>0.882055</td>\n",
       "      <td>-0.357062</td>\n",
       "      <td>-0.422008</td>\n",
       "      <td>1</td>\n",
       "      <td>0</td>\n",
       "      <td>0</td>\n",
       "      <td>0</td>\n",
       "      <td>0</td>\n",
       "      <td>...</td>\n",
       "      <td>0</td>\n",
       "      <td>0</td>\n",
       "      <td>0</td>\n",
       "      <td>0</td>\n",
       "      <td>0</td>\n",
       "      <td>0</td>\n",
       "      <td>0</td>\n",
       "      <td>0</td>\n",
       "      <td>1</td>\n",
       "      <td>0</td>\n",
       "    </tr>\n",
       "    <tr>\n",
       "      <th>179</th>\n",
       "      <td>1.056192</td>\n",
       "      <td>-1.196757</td>\n",
       "      <td>1.224943</td>\n",
       "      <td>-0.532480</td>\n",
       "      <td>-0.519229</td>\n",
       "      <td>0</td>\n",
       "      <td>0</td>\n",
       "      <td>0</td>\n",
       "      <td>0</td>\n",
       "      <td>0</td>\n",
       "      <td>...</td>\n",
       "      <td>0</td>\n",
       "      <td>0</td>\n",
       "      <td>0</td>\n",
       "      <td>0</td>\n",
       "      <td>0</td>\n",
       "      <td>0</td>\n",
       "      <td>0</td>\n",
       "      <td>0</td>\n",
       "      <td>1</td>\n",
       "      <td>0</td>\n",
       "    </tr>\n",
       "    <tr>\n",
       "      <th>...</th>\n",
       "      <td>...</td>\n",
       "      <td>...</td>\n",
       "      <td>...</td>\n",
       "      <td>...</td>\n",
       "      <td>...</td>\n",
       "      <td>...</td>\n",
       "      <td>...</td>\n",
       "      <td>...</td>\n",
       "      <td>...</td>\n",
       "      <td>...</td>\n",
       "      <td>...</td>\n",
       "      <td>...</td>\n",
       "      <td>...</td>\n",
       "      <td>...</td>\n",
       "      <td>...</td>\n",
       "      <td>...</td>\n",
       "      <td>...</td>\n",
       "      <td>...</td>\n",
       "      <td>...</td>\n",
       "      <td>...</td>\n",
       "      <td>...</td>\n",
       "    </tr>\n",
       "    <tr>\n",
       "      <th>0</th>\n",
       "      <td>11.230660</td>\n",
       "      <td>-1.208125</td>\n",
       "      <td>-1.147840</td>\n",
       "      <td>1.350864</td>\n",
       "      <td>1.330519</td>\n",
       "      <td>1</td>\n",
       "      <td>0</td>\n",
       "      <td>0</td>\n",
       "      <td>0</td>\n",
       "      <td>0</td>\n",
       "      <td>...</td>\n",
       "      <td>1</td>\n",
       "      <td>0</td>\n",
       "      <td>0</td>\n",
       "      <td>0</td>\n",
       "      <td>0</td>\n",
       "      <td>1</td>\n",
       "      <td>0</td>\n",
       "      <td>0</td>\n",
       "      <td>0</td>\n",
       "      <td>0</td>\n",
       "    </tr>\n",
       "    <tr>\n",
       "      <th>171</th>\n",
       "      <td>5.748843</td>\n",
       "      <td>-1.404000</td>\n",
       "      <td>1.164595</td>\n",
       "      <td>-0.503916</td>\n",
       "      <td>-0.440162</td>\n",
       "      <td>0</td>\n",
       "      <td>0</td>\n",
       "      <td>0</td>\n",
       "      <td>0</td>\n",
       "      <td>0</td>\n",
       "      <td>...</td>\n",
       "      <td>0</td>\n",
       "      <td>0</td>\n",
       "      <td>0</td>\n",
       "      <td>0</td>\n",
       "      <td>0</td>\n",
       "      <td>1</td>\n",
       "      <td>0</td>\n",
       "      <td>0</td>\n",
       "      <td>0</td>\n",
       "      <td>0</td>\n",
       "    </tr>\n",
       "    <tr>\n",
       "      <th>22</th>\n",
       "      <td>0.265197</td>\n",
       "      <td>0.034269</td>\n",
       "      <td>-0.928543</td>\n",
       "      <td>-0.635250</td>\n",
       "      <td>-0.578925</td>\n",
       "      <td>0</td>\n",
       "      <td>0</td>\n",
       "      <td>0</td>\n",
       "      <td>0</td>\n",
       "      <td>0</td>\n",
       "      <td>...</td>\n",
       "      <td>0</td>\n",
       "      <td>1</td>\n",
       "      <td>0</td>\n",
       "      <td>0</td>\n",
       "      <td>0</td>\n",
       "      <td>0</td>\n",
       "      <td>0</td>\n",
       "      <td>0</td>\n",
       "      <td>1</td>\n",
       "      <td>0</td>\n",
       "    </tr>\n",
       "    <tr>\n",
       "      <th>120</th>\n",
       "      <td>3.676678</td>\n",
       "      <td>-1.204660</td>\n",
       "      <td>-1.158698</td>\n",
       "      <td>1.245180</td>\n",
       "      <td>1.374095</td>\n",
       "      <td>1</td>\n",
       "      <td>0</td>\n",
       "      <td>0</td>\n",
       "      <td>0</td>\n",
       "      <td>0</td>\n",
       "      <td>...</td>\n",
       "      <td>0</td>\n",
       "      <td>0</td>\n",
       "      <td>1</td>\n",
       "      <td>0</td>\n",
       "      <td>0</td>\n",
       "      <td>1</td>\n",
       "      <td>0</td>\n",
       "      <td>0</td>\n",
       "      <td>0</td>\n",
       "      <td>0</td>\n",
       "    </tr>\n",
       "    <tr>\n",
       "      <th>34</th>\n",
       "      <td>10.624595</td>\n",
       "      <td>0.292949</td>\n",
       "      <td>-0.730680</td>\n",
       "      <td>-0.540968</td>\n",
       "      <td>-0.536916</td>\n",
       "      <td>1</td>\n",
       "      <td>0</td>\n",
       "      <td>0</td>\n",
       "      <td>0</td>\n",
       "      <td>0</td>\n",
       "      <td>...</td>\n",
       "      <td>0</td>\n",
       "      <td>0</td>\n",
       "      <td>0</td>\n",
       "      <td>0</td>\n",
       "      <td>0</td>\n",
       "      <td>0</td>\n",
       "      <td>0</td>\n",
       "      <td>0</td>\n",
       "      <td>0</td>\n",
       "      <td>1</td>\n",
       "    </tr>\n",
       "  </tbody>\n",
       "</table>\n",
       "<p>181 rows × 27 columns</p>\n",
       "</div>"
      ],
      "text/plain": [
       "          time  throughput_download  throughput_upload  rtt_download  \\\n",
       "119   5.974201            -1.610465          -1.430899      3.000679   \n",
       "9    29.567384             0.620310           1.135863     -0.476385   \n",
       "101   2.848623            -1.312473          -1.147941      1.333499   \n",
       "157   7.330926             0.691352           0.882055     -0.357062   \n",
       "179   1.056192            -1.196757           1.224943     -0.532480   \n",
       "..         ...                  ...                ...           ...   \n",
       "0    11.230660            -1.208125          -1.147840      1.350864   \n",
       "171   5.748843            -1.404000           1.164595     -0.503916   \n",
       "22    0.265197             0.034269          -0.928543     -0.635250   \n",
       "120   3.676678            -1.204660          -1.158698      1.245180   \n",
       "34   10.624595             0.292949          -0.730680     -0.540968   \n",
       "\n",
       "     rtt_upload  event  client_dca6326b9b52  client_dca6326b9c99  \\\n",
       "119    2.979957      1                    0                    0   \n",
       "9     -0.497858      0                    0                    0   \n",
       "101    1.334220      1                    0                    0   \n",
       "157   -0.422008      1                    0                    0   \n",
       "179   -0.519229      0                    0                    0   \n",
       "..          ...    ...                  ...                  ...   \n",
       "0      1.330519      1                    0                    0   \n",
       "171   -0.440162      0                    0                    0   \n",
       "22    -0.578925      0                    0                    0   \n",
       "120    1.374095      1                    0                    0   \n",
       "34    -0.536916      1                    0                    0   \n",
       "\n",
       "     client_dca6326b9ca8  client_e45f011e2d20  ...  client_e45f01963bb8  \\\n",
       "119                    0                    0  ...                    0   \n",
       "9                      0                    0  ...                    1   \n",
       "101                    0                    0  ...                    0   \n",
       "157                    0                    0  ...                    0   \n",
       "179                    0                    0  ...                    0   \n",
       "..                   ...                  ...  ...                  ...   \n",
       "0                      0                    0  ...                    1   \n",
       "171                    0                    0  ...                    0   \n",
       "22                     0                    0  ...                    0   \n",
       "120                    0                    0  ...                    0   \n",
       "34                     0                    0  ...                    0   \n",
       "\n",
       "     client_e45f01963c21  client_e45f01ad569d  client_e45f01b4bb1e  \\\n",
       "119                    0                    1                    0   \n",
       "9                      0                    0                    0   \n",
       "101                    0                    0                    1   \n",
       "157                    0                    0                    0   \n",
       "179                    0                    0                    0   \n",
       "..                   ...                  ...                  ...   \n",
       "0                      0                    0                    0   \n",
       "171                    0                    0                    0   \n",
       "22                     1                    0                    0   \n",
       "120                    0                    1                    0   \n",
       "34                     0                    0                    0   \n",
       "\n",
       "     client_e45f01b4bbc1  site_gru03  site_gru05  site_gru06  site_rnp_rj  \\\n",
       "119                    0           1           0           0            0   \n",
       "9                      0           0           1           0            0   \n",
       "101                    0           1           0           0            0   \n",
       "157                    0           0           0           0            1   \n",
       "179                    0           0           0           0            1   \n",
       "..                   ...         ...         ...         ...          ...   \n",
       "0                      0           1           0           0            0   \n",
       "171                    0           1           0           0            0   \n",
       "22                     0           0           0           0            1   \n",
       "120                    0           1           0           0            0   \n",
       "34                     0           0           0           0            0   \n",
       "\n",
       "     site_rnp_sp  \n",
       "119            0  \n",
       "9              0  \n",
       "101            0  \n",
       "157            0  \n",
       "179            0  \n",
       "..           ...  \n",
       "0              0  \n",
       "171            0  \n",
       "22             0  \n",
       "120            0  \n",
       "34             1  \n",
       "\n",
       "[181 rows x 27 columns]"
      ]
     },
     "execution_count": 7,
     "metadata": {},
     "output_type": "execute_result"
    }
   ],
   "source": [
    "train_set_scaled"
   ]
  },
  {
   "cell_type": "code",
   "execution_count": 8,
   "id": "0fadf0c2-b7b2-47f9-be8a-636741605e36",
   "metadata": {
    "tags": []
   },
   "outputs": [],
   "source": [
    "# Criar lista com os nomes das colunas dummies iniciadas por 'client_' e 'site_'\n",
    "client_cols = [col for col in train_set.columns if col.startswith('client_')]\n",
    "site_cols = [col for col in train_set.columns if col.startswith('site_')]\n",
    "cols_dummies = client_cols + site_cols\n",
    "\n",
    "fea = cols_dummies + ['throughput_download', 'throughput_upload', 'rtt_download', 'rtt_upload']\n",
    "\n",
    "db_ = df_surv.copy()\n",
    "\n",
    "time_column = 'time'\n",
    "event_column = 'event'\n",
    "\n",
    "X_train, X_val, X_test = train_set[fea].copy(), val_set[fea].copy(), test_set[fea].copy()\n",
    "T_train, T_val, T_test = train_set[time_column].copy(), val_set[time_column].copy(), test_set[time_column].copy()\n",
    "E_train, E_val, E_test = train_set[event_column].copy(), val_set[event_column].copy(), test_set[event_column].copy()\n",
    "y_train, y_test, y_val = y_array(E_train,T_train), y_array(E_test,T_test), y_array(E_val,T_val)\n",
    "\n",
    "T_train_t = np.concatenate((T_train.copy(), T_val.copy()),axis=-1)\n",
    "E_train_t = np.concatenate((E_train.copy(), E_val.copy()),axis =-1)  \n",
    "X_train_t = pd.concat([X_train, X_val],axis=0)\n",
    "\n",
    "y_train_t = y_array(E_train_t, T_train_t)"
   ]
  },
  {
   "cell_type": "markdown",
   "id": "03a2e906-9b2d-4325-b6a7-37c61cc232a2",
   "metadata": {},
   "source": [
    "# SurvMixClust "
   ]
  },
  {
   "cell_type": "code",
   "execution_count": 9,
   "id": "bf2c1ace-1463-44e6-a7b5-61379893cc40",
   "metadata": {},
   "outputs": [],
   "source": [
    "from model import SurvMixClust"
   ]
  },
  {
   "cell_type": "code",
   "execution_count": 10,
   "id": "b7a4ec06-e95f-4b6d-97d1-0f5033452e8b",
   "metadata": {
    "collapsed": true,
    "jupyter": {
     "outputs_hidden": true
    },
    "tags": []
   },
   "outputs": [
    {
     "name": "stdout",
     "output_type": "stream",
     "text": [
      "\n",
      "######## Selecting bandwidth ########\n",
      "\n",
      "#### plug-in estimate with 100% of data ####\n",
      "#### success ####\n",
      "\n",
      "Non-parallel processing for 2 number of clusters.\n",
      "######## iteration: 0\n",
      "\t# cindex (with labels) with train_set at iteration 0: 0.5496348188999851\n",
      "\t# cindex (with labels) with val_set at iteration 0: 0.49295774647887325\n",
      "\tTime elapsed for the entire iteration:  0:00:44.249914\n",
      "######## iteration: 1\n",
      "\tTime elapsed for the entire iteration:  0:00:00.211329\n",
      "######## iteration: 2\n",
      "\tTime elapsed for the entire iteration:  0:00:00.222452\n",
      "######## iteration: 3\n",
      "\t# cindex (with labels) with train_set at iteration 3: 0.8591444328513936\n",
      "\t# cindex (with labels) with val_set at iteration 3: 0.7400768245838668\n",
      "\tTime elapsed for the entire iteration:  0:00:00.647726\n",
      "######## iteration: 4\n",
      "\tTime elapsed for the entire iteration:  0:00:00.227843\n",
      "######## iteration: 5\n",
      "\tTime elapsed for the entire iteration:  0:00:00.227477\n",
      "######## iteration: 6\n",
      "\t# cindex (with labels) with train_set at iteration 6: 0.8412580116261738\n",
      "\t# cindex (with labels) with val_set at iteration 6: 0.7458386683738797\n",
      "\tTime elapsed for the entire iteration:  0:00:00.584255\n",
      "######## iteration: 7\n",
      "\tTime elapsed for the entire iteration:  0:00:00.267216\n",
      "######## iteration: 8\n",
      "\tTime elapsed for the entire iteration:  0:00:00.258032\n",
      "######## iteration: 9\n",
      "\t# cindex (with labels) with train_set at iteration 9: 0.8425994932180653\n",
      "\t# cindex (with labels) with val_set at iteration 9: 0.7458386683738797\n",
      "\tTime elapsed for the entire iteration:  0:00:00.471850\n",
      "######## iteration: 10\n",
      "\tTime elapsed for the entire iteration:  0:00:00.316601\n",
      "######## iteration: 11\n",
      "\tTime elapsed for the entire iteration:  0:00:00.326324\n",
      "######## iteration: 12\n",
      "\t# cindex (with labels) with train_set at iteration 12: 0.8425994932180653\n",
      "\t# cindex (with labels) with val_set at iteration 12: 0.7458386683738797\n",
      "\t\tcindex_by_ite[-2]['cindex']: 0.8425994932180653, cindex_by_ite[-1]['cindex']: 0.8425994932180653\n",
      "\t\tcindex_val_by_ite[-2]['cindex']: 0.7458386683738797, cindex_val_by_ite[-1]['cindex']: 0.7458386683738797\n",
      "######## Converged: 12 ########\n",
      "######## Time for all iterations:0:00:48.485312 ########\n",
      "\n",
      "\n",
      "######## iteration: 0\n",
      "\t# cindex (with labels) with train_set at iteration 0: 0.5845133402891638\n",
      "\t# cindex (with labels) with val_set at iteration 0: 0.5665813060179258\n",
      "\tTime elapsed for the entire iteration:  0:00:00.538073\n",
      "######## iteration: 1\n",
      "\tTime elapsed for the entire iteration:  0:00:00.240059\n",
      "######## iteration: 2\n",
      "\tTime elapsed for the entire iteration:  0:00:00.274307\n",
      "######## iteration: 3\n",
      "\t# cindex (with labels) with train_set at iteration 3: 0.6068713668206887\n",
      "\t# cindex (with labels) with val_set at iteration 3: 0.5185659411011524\n",
      "\tTime elapsed for the entire iteration:  0:00:00.463003\n",
      "######## iteration: 4\n",
      "\tTime elapsed for the entire iteration:  0:00:00.233728\n",
      "######## iteration: 5\n",
      "\tTime elapsed for the entire iteration:  0:00:00.246277\n",
      "######## iteration: 6\n",
      "\t# cindex (with labels) with train_set at iteration 6: 0.6068713668206887\n",
      "\t# cindex (with labels) with val_set at iteration 6: 0.5185659411011524\n",
      "\t\tcindex_by_ite[-2]['cindex']: 0.6068713668206887, cindex_by_ite[-1]['cindex']: 0.6068713668206887\n",
      "\t\tcindex_val_by_ite[-2]['cindex']: 0.5185659411011524, cindex_val_by_ite[-1]['cindex']: 0.5185659411011524\n",
      "######## Converged: 6 ########\n",
      "######## Time for all iterations:0:00:02.402212 ########\n",
      "\n",
      "\n",
      "######## iteration: 0\n",
      "\t# cindex (with labels) with train_set at iteration 0: 0.5597704575942763\n",
      "\t# cindex (with labels) with val_set at iteration 0: 0.5467349551856594\n",
      "\tTime elapsed for the entire iteration:  0:00:00.466577\n",
      "######## iteration: 1\n",
      "\tTime elapsed for the entire iteration:  0:00:00.231324\n",
      "######## iteration: 2\n",
      "\tTime elapsed for the entire iteration:  0:00:00.308841\n",
      "######## iteration: 3\n",
      "\t# cindex (with labels) with train_set at iteration 3: 0.621627664331495\n",
      "\t# cindex (with labels) with val_set at iteration 3: 0.5550576184379001\n",
      "\tTime elapsed for the entire iteration:  0:00:00.456917\n",
      "######## iteration: 4\n",
      "\tTime elapsed for the entire iteration:  0:00:00.194944\n",
      "######## iteration: 5\n",
      "\tTime elapsed for the entire iteration:  0:00:00.168376\n",
      "######## iteration: 6\n",
      "\t# cindex (with labels) with train_set at iteration 6: 0.6474884483529587\n",
      "\t# cindex (with labels) with val_set at iteration 6: 0.6376440460947503\n",
      "\tTime elapsed for the entire iteration:  0:00:00.388053\n",
      "######## iteration: 7\n",
      "\tTime elapsed for the entire iteration:  0:00:00.162305\n",
      "######## iteration: 8\n",
      "\tTime elapsed for the entire iteration:  0:00:00.205407\n",
      "######## iteration: 9\n",
      "\t# cindex (with labels) with train_set at iteration 9: 0.6808764346400358\n",
      "\t# cindex (with labels) with val_set at iteration 9: 0.6408450704225352\n",
      "\tTime elapsed for the entire iteration:  0:00:00.509608\n",
      "######## iteration: 10\n",
      "\tTime elapsed for the entire iteration:  0:00:00.170146\n",
      "######## iteration: 11\n",
      "\tTime elapsed for the entire iteration:  0:00:00.242463\n",
      "######## iteration: 12\n",
      "\t# cindex (with labels) with train_set at iteration 12: 0.6960798926814726\n",
      "\t# cindex (with labels) with val_set at iteration 12: 0.6216389244558259\n",
      "\tTime elapsed for the entire iteration:  0:00:00.394075\n",
      "######## iteration: 13\n",
      "\tTime elapsed for the entire iteration:  0:00:00.202173\n",
      "######## iteration: 14\n",
      "\tTime elapsed for the entire iteration:  0:00:00.212923\n",
      "######## iteration: 15\n",
      "\t# cindex (with labels) with train_set at iteration 15: 0.6989119093754658\n",
      "\t# cindex (with labels) with val_set at iteration 15: 0.6254801536491678\n",
      "\tTime elapsed for the entire iteration:  0:00:00.434078\n",
      "######## iteration: 16\n",
      "\tTime elapsed for the entire iteration:  0:00:00.216049\n",
      "######## iteration: 17\n",
      "\tTime elapsed for the entire iteration:  0:00:00.202588\n",
      "######## iteration: 18\n",
      "\t# cindex (with labels) with train_set at iteration 18: 0.6950365181100014\n",
      "\t# cindex (with labels) with val_set at iteration 18: 0.6216389244558259\n",
      "\tTime elapsed for the entire iteration:  0:00:00.419519\n",
      "######## iteration: 19\n",
      "\tTime elapsed for the entire iteration:  0:00:00.224298\n",
      "######## iteration: 20\n",
      "\tTime elapsed for the entire iteration:  0:00:00.202995\n",
      "######## iteration: 21\n",
      "\t# cindex (with labels) with train_set at iteration 21: 0.6950365181100014\n",
      "\t# cindex (with labels) with val_set at iteration 21: 0.6216389244558259\n",
      "\t\tcindex_by_ite[-2]['cindex']: 0.6950365181100014, cindex_by_ite[-1]['cindex']: 0.6950365181100014\n",
      "\t\tcindex_val_by_ite[-2]['cindex']: 0.6216389244558259, cindex_val_by_ite[-1]['cindex']: 0.6216389244558259\n",
      "######## Converged: 21 ########\n",
      "######## Time for all iterations:0:00:06.364472 ########\n",
      "\n",
      "\n",
      "Non-parallel processing for 3 number of clusters.\n",
      "######## iteration: 0\n"
     ]
    },
    {
     "name": "stderr",
     "output_type": "stream",
     "text": [
      "/mnt/arquivos/1 Projetos/Artigo SBRC/sbrc2025/.venv/lib/python3.12/site-packages/sklearn/linear_model/_logistic.py:469: ConvergenceWarning: lbfgs failed to converge (status=1):\n",
      "STOP: TOTAL NO. of ITERATIONS REACHED LIMIT.\n",
      "\n",
      "Increase the number of iterations (max_iter) or scale the data as shown in:\n",
      "    https://scikit-learn.org/stable/modules/preprocessing.html\n",
      "Please also refer to the documentation for alternative solver options:\n",
      "    https://scikit-learn.org/stable/modules/linear_model.html#logistic-regression\n",
      "  n_iter_i = _check_optimize_result(\n"
     ]
    },
    {
     "name": "stdout",
     "output_type": "stream",
     "text": [
      "\t# cindex (with labels) with train_set at iteration 0: 0.6133551945148308\n",
      "\t# cindex (with labels) with val_set at iteration 0: 0.6274007682458387\n",
      "\tTime elapsed for the entire iteration:  0:00:01.517949\n",
      "######## iteration: 1\n"
     ]
    },
    {
     "name": "stderr",
     "output_type": "stream",
     "text": [
      "/mnt/arquivos/1 Projetos/Artigo SBRC/sbrc2025/.venv/lib/python3.12/site-packages/sklearn/linear_model/_logistic.py:469: ConvergenceWarning: lbfgs failed to converge (status=1):\n",
      "STOP: TOTAL NO. of ITERATIONS REACHED LIMIT.\n",
      "\n",
      "Increase the number of iterations (max_iter) or scale the data as shown in:\n",
      "    https://scikit-learn.org/stable/modules/preprocessing.html\n",
      "Please also refer to the documentation for alternative solver options:\n",
      "    https://scikit-learn.org/stable/modules/linear_model.html#logistic-regression\n",
      "  n_iter_i = _check_optimize_result(\n"
     ]
    },
    {
     "name": "stdout",
     "output_type": "stream",
     "text": [
      "\tTime elapsed for the entire iteration:  0:00:01.149678\n",
      "######## iteration: 2\n"
     ]
    },
    {
     "name": "stderr",
     "output_type": "stream",
     "text": [
      "/mnt/arquivos/1 Projetos/Artigo SBRC/sbrc2025/.venv/lib/python3.12/site-packages/sklearn/linear_model/_logistic.py:469: ConvergenceWarning: lbfgs failed to converge (status=1):\n",
      "STOP: TOTAL NO. of ITERATIONS REACHED LIMIT.\n",
      "\n",
      "Increase the number of iterations (max_iter) or scale the data as shown in:\n",
      "    https://scikit-learn.org/stable/modules/preprocessing.html\n",
      "Please also refer to the documentation for alternative solver options:\n",
      "    https://scikit-learn.org/stable/modules/linear_model.html#logistic-regression\n",
      "  n_iter_i = _check_optimize_result(\n"
     ]
    },
    {
     "name": "stdout",
     "output_type": "stream",
     "text": [
      "\tTime elapsed for the entire iteration:  0:00:01.222560\n",
      "######## iteration: 3\n"
     ]
    },
    {
     "name": "stderr",
     "output_type": "stream",
     "text": [
      "/mnt/arquivos/1 Projetos/Artigo SBRC/sbrc2025/.venv/lib/python3.12/site-packages/sklearn/linear_model/_logistic.py:469: ConvergenceWarning: lbfgs failed to converge (status=1):\n",
      "STOP: TOTAL NO. of ITERATIONS REACHED LIMIT.\n",
      "\n",
      "Increase the number of iterations (max_iter) or scale the data as shown in:\n",
      "    https://scikit-learn.org/stable/modules/preprocessing.html\n",
      "Please also refer to the documentation for alternative solver options:\n",
      "    https://scikit-learn.org/stable/modules/linear_model.html#logistic-regression\n",
      "  n_iter_i = _check_optimize_result(\n"
     ]
    },
    {
     "name": "stdout",
     "output_type": "stream",
     "text": [
      "\t# cindex (with labels) with train_set at iteration 3: 0.6699955283946937\n",
      "\t# cindex (with labels) with val_set at iteration 3: 0.5736235595390525\n",
      "\tTime elapsed for the entire iteration:  0:00:01.434230\n",
      "######## iteration: 4\n"
     ]
    },
    {
     "name": "stderr",
     "output_type": "stream",
     "text": [
      "/mnt/arquivos/1 Projetos/Artigo SBRC/sbrc2025/.venv/lib/python3.12/site-packages/sklearn/linear_model/_logistic.py:469: ConvergenceWarning: lbfgs failed to converge (status=1):\n",
      "STOP: TOTAL NO. of ITERATIONS REACHED LIMIT.\n",
      "\n",
      "Increase the number of iterations (max_iter) or scale the data as shown in:\n",
      "    https://scikit-learn.org/stable/modules/preprocessing.html\n",
      "Please also refer to the documentation for alternative solver options:\n",
      "    https://scikit-learn.org/stable/modules/linear_model.html#logistic-regression\n",
      "  n_iter_i = _check_optimize_result(\n"
     ]
    },
    {
     "name": "stdout",
     "output_type": "stream",
     "text": [
      "\tTime elapsed for the entire iteration:  0:00:01.099562\n",
      "######## iteration: 5\n"
     ]
    },
    {
     "name": "stderr",
     "output_type": "stream",
     "text": [
      "/mnt/arquivos/1 Projetos/Artigo SBRC/sbrc2025/.venv/lib/python3.12/site-packages/sklearn/linear_model/_logistic.py:469: ConvergenceWarning: lbfgs failed to converge (status=1):\n",
      "STOP: TOTAL NO. of ITERATIONS REACHED LIMIT.\n",
      "\n",
      "Increase the number of iterations (max_iter) or scale the data as shown in:\n",
      "    https://scikit-learn.org/stable/modules/preprocessing.html\n",
      "Please also refer to the documentation for alternative solver options:\n",
      "    https://scikit-learn.org/stable/modules/linear_model.html#logistic-regression\n",
      "  n_iter_i = _check_optimize_result(\n"
     ]
    },
    {
     "name": "stdout",
     "output_type": "stream",
     "text": [
      "\tTime elapsed for the entire iteration:  0:00:01.212559\n",
      "######## iteration: 6\n"
     ]
    },
    {
     "name": "stderr",
     "output_type": "stream",
     "text": [
      "/mnt/arquivos/1 Projetos/Artigo SBRC/sbrc2025/.venv/lib/python3.12/site-packages/sklearn/linear_model/_logistic.py:469: ConvergenceWarning: lbfgs failed to converge (status=1):\n",
      "STOP: TOTAL NO. of ITERATIONS REACHED LIMIT.\n",
      "\n",
      "Increase the number of iterations (max_iter) or scale the data as shown in:\n",
      "    https://scikit-learn.org/stable/modules/preprocessing.html\n",
      "Please also refer to the documentation for alternative solver options:\n",
      "    https://scikit-learn.org/stable/modules/linear_model.html#logistic-regression\n",
      "  n_iter_i = _check_optimize_result(\n"
     ]
    },
    {
     "name": "stdout",
     "output_type": "stream",
     "text": [
      "\t# cindex (with labels) with train_set at iteration 6: 0.6892234312118051\n",
      "\t# cindex (with labels) with val_set at iteration 6: 0.617157490396927\n",
      "\tTime elapsed for the entire iteration:  0:00:01.675783\n",
      "######## iteration: 7\n"
     ]
    },
    {
     "name": "stderr",
     "output_type": "stream",
     "text": [
      "/mnt/arquivos/1 Projetos/Artigo SBRC/sbrc2025/.venv/lib/python3.12/site-packages/sklearn/linear_model/_logistic.py:469: ConvergenceWarning: lbfgs failed to converge (status=1):\n",
      "STOP: TOTAL NO. of ITERATIONS REACHED LIMIT.\n",
      "\n",
      "Increase the number of iterations (max_iter) or scale the data as shown in:\n",
      "    https://scikit-learn.org/stable/modules/preprocessing.html\n",
      "Please also refer to the documentation for alternative solver options:\n",
      "    https://scikit-learn.org/stable/modules/linear_model.html#logistic-regression\n",
      "  n_iter_i = _check_optimize_result(\n"
     ]
    },
    {
     "name": "stdout",
     "output_type": "stream",
     "text": [
      "\tTime elapsed for the entire iteration:  0:00:01.174294\n",
      "######## iteration: 8\n"
     ]
    },
    {
     "name": "stderr",
     "output_type": "stream",
     "text": [
      "/mnt/arquivos/1 Projetos/Artigo SBRC/sbrc2025/.venv/lib/python3.12/site-packages/sklearn/linear_model/_logistic.py:469: ConvergenceWarning: lbfgs failed to converge (status=1):\n",
      "STOP: TOTAL NO. of ITERATIONS REACHED LIMIT.\n",
      "\n",
      "Increase the number of iterations (max_iter) or scale the data as shown in:\n",
      "    https://scikit-learn.org/stable/modules/preprocessing.html\n",
      "Please also refer to the documentation for alternative solver options:\n",
      "    https://scikit-learn.org/stable/modules/linear_model.html#logistic-regression\n",
      "  n_iter_i = _check_optimize_result(\n"
     ]
    },
    {
     "name": "stdout",
     "output_type": "stream",
     "text": [
      "\tTime elapsed for the entire iteration:  0:00:01.181726\n",
      "######## iteration: 9\n"
     ]
    },
    {
     "name": "stderr",
     "output_type": "stream",
     "text": [
      "/mnt/arquivos/1 Projetos/Artigo SBRC/sbrc2025/.venv/lib/python3.12/site-packages/sklearn/linear_model/_logistic.py:469: ConvergenceWarning: lbfgs failed to converge (status=1):\n",
      "STOP: TOTAL NO. of ITERATIONS REACHED LIMIT.\n",
      "\n",
      "Increase the number of iterations (max_iter) or scale the data as shown in:\n",
      "    https://scikit-learn.org/stable/modules/preprocessing.html\n",
      "Please also refer to the documentation for alternative solver options:\n",
      "    https://scikit-learn.org/stable/modules/linear_model.html#logistic-regression\n",
      "  n_iter_i = _check_optimize_result(\n"
     ]
    },
    {
     "name": "stdout",
     "output_type": "stream",
     "text": [
      "\t# cindex (with labels) with train_set at iteration 9: 0.6892234312118051\n",
      "\t# cindex (with labels) with val_set at iteration 9: 0.617157490396927\n",
      "\t\tcindex_by_ite[-2]['cindex']: 0.6892234312118051, cindex_by_ite[-1]['cindex']: 0.6892234312118051\n",
      "\t\tcindex_val_by_ite[-2]['cindex']: 0.617157490396927, cindex_val_by_ite[-1]['cindex']: 0.617157490396927\n",
      "######## Converged: 9 ########\n",
      "######## Time for all iterations:0:00:13.123841 ########\n",
      "\n",
      "\n",
      "######## iteration: 0\n"
     ]
    },
    {
     "name": "stderr",
     "output_type": "stream",
     "text": [
      "/mnt/arquivos/1 Projetos/Artigo SBRC/sbrc2025/.venv/lib/python3.12/site-packages/sklearn/linear_model/_logistic.py:469: ConvergenceWarning: lbfgs failed to converge (status=1):\n",
      "STOP: TOTAL NO. of ITERATIONS REACHED LIMIT.\n",
      "\n",
      "Increase the number of iterations (max_iter) or scale the data as shown in:\n",
      "    https://scikit-learn.org/stable/modules/preprocessing.html\n",
      "Please also refer to the documentation for alternative solver options:\n",
      "    https://scikit-learn.org/stable/modules/linear_model.html#logistic-regression\n",
      "  n_iter_i = _check_optimize_result(\n"
     ]
    },
    {
     "name": "stdout",
     "output_type": "stream",
     "text": [
      "\t# cindex (with labels) with train_set at iteration 0: 0.6076166343717394\n",
      "\t# cindex (with labels) with val_set at iteration 0: 0.5371318822023048\n",
      "\tTime elapsed for the entire iteration:  0:00:01.605490\n",
      "######## iteration: 1\n",
      "\tTime elapsed for the entire iteration:  0:00:01.185124\n",
      "######## iteration: 2\n"
     ]
    },
    {
     "name": "stderr",
     "output_type": "stream",
     "text": [
      "/mnt/arquivos/1 Projetos/Artigo SBRC/sbrc2025/.venv/lib/python3.12/site-packages/sklearn/linear_model/_logistic.py:469: ConvergenceWarning: lbfgs failed to converge (status=1):\n",
      "STOP: TOTAL NO. of ITERATIONS REACHED LIMIT.\n",
      "\n",
      "Increase the number of iterations (max_iter) or scale the data as shown in:\n",
      "    https://scikit-learn.org/stable/modules/preprocessing.html\n",
      "Please also refer to the documentation for alternative solver options:\n",
      "    https://scikit-learn.org/stable/modules/linear_model.html#logistic-regression\n",
      "  n_iter_i = _check_optimize_result(\n"
     ]
    },
    {
     "name": "stdout",
     "output_type": "stream",
     "text": [
      "\tTime elapsed for the entire iteration:  0:00:01.049381\n",
      "######## iteration: 3\n"
     ]
    },
    {
     "name": "stderr",
     "output_type": "stream",
     "text": [
      "/mnt/arquivos/1 Projetos/Artigo SBRC/sbrc2025/.venv/lib/python3.12/site-packages/sklearn/linear_model/_logistic.py:469: ConvergenceWarning: lbfgs failed to converge (status=1):\n",
      "STOP: TOTAL NO. of ITERATIONS REACHED LIMIT.\n",
      "\n",
      "Increase the number of iterations (max_iter) or scale the data as shown in:\n",
      "    https://scikit-learn.org/stable/modules/preprocessing.html\n",
      "Please also refer to the documentation for alternative solver options:\n",
      "    https://scikit-learn.org/stable/modules/linear_model.html#logistic-regression\n",
      "  n_iter_i = _check_optimize_result(\n"
     ]
    },
    {
     "name": "stdout",
     "output_type": "stream",
     "text": [
      "\t# cindex (with labels) with train_set at iteration 3: 0.784692204501416\n",
      "\t# cindex (with labels) with val_set at iteration 3: 0.7701664532650448\n",
      "\tTime elapsed for the entire iteration:  0:00:01.397498\n",
      "######## iteration: 4\n"
     ]
    },
    {
     "name": "stderr",
     "output_type": "stream",
     "text": [
      "/mnt/arquivos/1 Projetos/Artigo SBRC/sbrc2025/.venv/lib/python3.12/site-packages/sklearn/linear_model/_logistic.py:469: ConvergenceWarning: lbfgs failed to converge (status=1):\n",
      "STOP: TOTAL NO. of ITERATIONS REACHED LIMIT.\n",
      "\n",
      "Increase the number of iterations (max_iter) or scale the data as shown in:\n",
      "    https://scikit-learn.org/stable/modules/preprocessing.html\n",
      "Please also refer to the documentation for alternative solver options:\n",
      "    https://scikit-learn.org/stable/modules/linear_model.html#logistic-regression\n",
      "  n_iter_i = _check_optimize_result(\n"
     ]
    },
    {
     "name": "stdout",
     "output_type": "stream",
     "text": [
      "\tTime elapsed for the entire iteration:  0:00:00.995920\n",
      "######## iteration: 5\n"
     ]
    },
    {
     "name": "stderr",
     "output_type": "stream",
     "text": [
      "/mnt/arquivos/1 Projetos/Artigo SBRC/sbrc2025/.venv/lib/python3.12/site-packages/sklearn/linear_model/_logistic.py:469: ConvergenceWarning: lbfgs failed to converge (status=1):\n",
      "STOP: TOTAL NO. of ITERATIONS REACHED LIMIT.\n",
      "\n",
      "Increase the number of iterations (max_iter) or scale the data as shown in:\n",
      "    https://scikit-learn.org/stable/modules/preprocessing.html\n",
      "Please also refer to the documentation for alternative solver options:\n",
      "    https://scikit-learn.org/stable/modules/linear_model.html#logistic-regression\n",
      "  n_iter_i = _check_optimize_result(\n"
     ]
    },
    {
     "name": "stdout",
     "output_type": "stream",
     "text": [
      "\tTime elapsed for the entire iteration:  0:00:01.123456\n",
      "######## iteration: 6\n"
     ]
    },
    {
     "name": "stderr",
     "output_type": "stream",
     "text": [
      "/mnt/arquivos/1 Projetos/Artigo SBRC/sbrc2025/.venv/lib/python3.12/site-packages/sklearn/linear_model/_logistic.py:469: ConvergenceWarning: lbfgs failed to converge (status=1):\n",
      "STOP: TOTAL NO. of ITERATIONS REACHED LIMIT.\n",
      "\n",
      "Increase the number of iterations (max_iter) or scale the data as shown in:\n",
      "    https://scikit-learn.org/stable/modules/preprocessing.html\n",
      "Please also refer to the documentation for alternative solver options:\n",
      "    https://scikit-learn.org/stable/modules/linear_model.html#logistic-regression\n",
      "  n_iter_i = _check_optimize_result(\n"
     ]
    },
    {
     "name": "stdout",
     "output_type": "stream",
     "text": [
      "\t# cindex (with labels) with train_set at iteration 6: 0.7815620807870025\n",
      "\t# cindex (with labels) with val_set at iteration 6: 0.7688860435339309\n",
      "\tTime elapsed for the entire iteration:  0:00:01.669674\n",
      "######## iteration: 7\n"
     ]
    },
    {
     "name": "stderr",
     "output_type": "stream",
     "text": [
      "/mnt/arquivos/1 Projetos/Artigo SBRC/sbrc2025/.venv/lib/python3.12/site-packages/sklearn/linear_model/_logistic.py:469: ConvergenceWarning: lbfgs failed to converge (status=1):\n",
      "STOP: TOTAL NO. of ITERATIONS REACHED LIMIT.\n",
      "\n",
      "Increase the number of iterations (max_iter) or scale the data as shown in:\n",
      "    https://scikit-learn.org/stable/modules/preprocessing.html\n",
      "Please also refer to the documentation for alternative solver options:\n",
      "    https://scikit-learn.org/stable/modules/linear_model.html#logistic-regression\n",
      "  n_iter_i = _check_optimize_result(\n"
     ]
    },
    {
     "name": "stdout",
     "output_type": "stream",
     "text": [
      "\tTime elapsed for the entire iteration:  0:00:01.278329\n",
      "######## iteration: 8\n"
     ]
    },
    {
     "name": "stderr",
     "output_type": "stream",
     "text": [
      "/mnt/arquivos/1 Projetos/Artigo SBRC/sbrc2025/.venv/lib/python3.12/site-packages/sklearn/linear_model/_logistic.py:469: ConvergenceWarning: lbfgs failed to converge (status=1):\n",
      "STOP: TOTAL NO. of ITERATIONS REACHED LIMIT.\n",
      "\n",
      "Increase the number of iterations (max_iter) or scale the data as shown in:\n",
      "    https://scikit-learn.org/stable/modules/preprocessing.html\n",
      "Please also refer to the documentation for alternative solver options:\n",
      "    https://scikit-learn.org/stable/modules/linear_model.html#logistic-regression\n",
      "  n_iter_i = _check_optimize_result(\n"
     ]
    },
    {
     "name": "stdout",
     "output_type": "stream",
     "text": [
      "\tTime elapsed for the entire iteration:  0:00:01.166706\n",
      "######## iteration: 9\n"
     ]
    },
    {
     "name": "stderr",
     "output_type": "stream",
     "text": [
      "/mnt/arquivos/1 Projetos/Artigo SBRC/sbrc2025/.venv/lib/python3.12/site-packages/sklearn/linear_model/_logistic.py:469: ConvergenceWarning: lbfgs failed to converge (status=1):\n",
      "STOP: TOTAL NO. of ITERATIONS REACHED LIMIT.\n",
      "\n",
      "Increase the number of iterations (max_iter) or scale the data as shown in:\n",
      "    https://scikit-learn.org/stable/modules/preprocessing.html\n",
      "Please also refer to the documentation for alternative solver options:\n",
      "    https://scikit-learn.org/stable/modules/linear_model.html#logistic-regression\n",
      "  n_iter_i = _check_optimize_result(\n"
     ]
    },
    {
     "name": "stdout",
     "output_type": "stream",
     "text": [
      "\t# cindex (with labels) with train_set at iteration 9: 0.7815620807870025\n",
      "\t# cindex (with labels) with val_set at iteration 9: 0.7688860435339309\n",
      "\t\tcindex_by_ite[-2]['cindex']: 0.7815620807870025, cindex_by_ite[-1]['cindex']: 0.7815620807870025\n",
      "\t\tcindex_val_by_ite[-2]['cindex']: 0.7688860435339309, cindex_val_by_ite[-1]['cindex']: 0.7688860435339309\n",
      "######## Converged: 9 ########\n",
      "######## Time for all iterations:0:00:12.742854 ########\n",
      "\n",
      "\n",
      "######## iteration: 0\n",
      "\t# cindex (with labels) with train_set at iteration 0: 0.6163362647190341\n",
      "\t# cindex (with labels) with val_set at iteration 0: 0.5083226632522407\n",
      "\tTime elapsed for the entire iteration:  0:00:01.513226\n",
      "######## iteration: 1\n"
     ]
    },
    {
     "name": "stderr",
     "output_type": "stream",
     "text": [
      "/mnt/arquivos/1 Projetos/Artigo SBRC/sbrc2025/.venv/lib/python3.12/site-packages/sklearn/linear_model/_logistic.py:469: ConvergenceWarning: lbfgs failed to converge (status=1):\n",
      "STOP: TOTAL NO. of ITERATIONS REACHED LIMIT.\n",
      "\n",
      "Increase the number of iterations (max_iter) or scale the data as shown in:\n",
      "    https://scikit-learn.org/stable/modules/preprocessing.html\n",
      "Please also refer to the documentation for alternative solver options:\n",
      "    https://scikit-learn.org/stable/modules/linear_model.html#logistic-regression\n",
      "  n_iter_i = _check_optimize_result(\n"
     ]
    },
    {
     "name": "stdout",
     "output_type": "stream",
     "text": [
      "\tTime elapsed for the entire iteration:  0:00:01.014117\n",
      "######## iteration: 2\n"
     ]
    },
    {
     "name": "stderr",
     "output_type": "stream",
     "text": [
      "/mnt/arquivos/1 Projetos/Artigo SBRC/sbrc2025/.venv/lib/python3.12/site-packages/sklearn/linear_model/_logistic.py:469: ConvergenceWarning: lbfgs failed to converge (status=1):\n",
      "STOP: TOTAL NO. of ITERATIONS REACHED LIMIT.\n",
      "\n",
      "Increase the number of iterations (max_iter) or scale the data as shown in:\n",
      "    https://scikit-learn.org/stable/modules/preprocessing.html\n",
      "Please also refer to the documentation for alternative solver options:\n",
      "    https://scikit-learn.org/stable/modules/linear_model.html#logistic-regression\n",
      "  n_iter_i = _check_optimize_result(\n"
     ]
    },
    {
     "name": "stdout",
     "output_type": "stream",
     "text": [
      "\tTime elapsed for the entire iteration:  0:00:01.065016\n",
      "######## iteration: 3\n"
     ]
    },
    {
     "name": "stderr",
     "output_type": "stream",
     "text": [
      "/mnt/arquivos/1 Projetos/Artigo SBRC/sbrc2025/.venv/lib/python3.12/site-packages/sklearn/linear_model/_logistic.py:469: ConvergenceWarning: lbfgs failed to converge (status=1):\n",
      "STOP: TOTAL NO. of ITERATIONS REACHED LIMIT.\n",
      "\n",
      "Increase the number of iterations (max_iter) or scale the data as shown in:\n",
      "    https://scikit-learn.org/stable/modules/preprocessing.html\n",
      "Please also refer to the documentation for alternative solver options:\n",
      "    https://scikit-learn.org/stable/modules/linear_model.html#logistic-regression\n",
      "  n_iter_i = _check_optimize_result(\n"
     ]
    },
    {
     "name": "stdout",
     "output_type": "stream",
     "text": [
      "\t# cindex (with labels) with train_set at iteration 3: 0.718959606498733\n",
      "\t# cindex (with labels) with val_set at iteration 3: 0.6069142125480154\n",
      "\tTime elapsed for the entire iteration:  0:00:01.575441\n",
      "######## iteration: 4\n"
     ]
    },
    {
     "name": "stderr",
     "output_type": "stream",
     "text": [
      "/mnt/arquivos/1 Projetos/Artigo SBRC/sbrc2025/.venv/lib/python3.12/site-packages/sklearn/linear_model/_logistic.py:469: ConvergenceWarning: lbfgs failed to converge (status=1):\n",
      "STOP: TOTAL NO. of ITERATIONS REACHED LIMIT.\n",
      "\n",
      "Increase the number of iterations (max_iter) or scale the data as shown in:\n",
      "    https://scikit-learn.org/stable/modules/preprocessing.html\n",
      "Please also refer to the documentation for alternative solver options:\n",
      "    https://scikit-learn.org/stable/modules/linear_model.html#logistic-regression\n",
      "  n_iter_i = _check_optimize_result(\n"
     ]
    },
    {
     "name": "stdout",
     "output_type": "stream",
     "text": [
      "\tTime elapsed for the entire iteration:  0:00:01.269159\n",
      "######## iteration: 5\n",
      "\tTime elapsed for the entire iteration:  0:00:01.098446\n",
      "######## iteration: 6\n",
      "\t# cindex (with labels) with train_set at iteration 6: 0.7302876732747057\n",
      "\t# cindex (with labels) with val_set at iteration 6: 0.6139564660691421\n",
      "\tTime elapsed for the entire iteration:  0:00:01.454192\n",
      "######## iteration: 7\n",
      "\tTime elapsed for the entire iteration:  0:00:01.161798\n",
      "######## iteration: 8\n",
      "\tTime elapsed for the entire iteration:  0:00:01.020620\n",
      "######## iteration: 9\n",
      "\t# cindex (with labels) with train_set at iteration 9: 0.7302876732747057\n",
      "\t# cindex (with labels) with val_set at iteration 9: 0.6139564660691421\n",
      "\t\tcindex_by_ite[-2]['cindex']: 0.7302876732747057, cindex_by_ite[-1]['cindex']: 0.7302876732747057\n",
      "\t\tcindex_val_by_ite[-2]['cindex']: 0.6139564660691421, cindex_val_by_ite[-1]['cindex']: 0.6139564660691421\n",
      "######## Converged: 9 ########\n",
      "######## Time for all iterations:0:00:12.308358 ########\n",
      "\n",
      "\n",
      "Non-parallel processing for 5 number of clusters.\n",
      "######## iteration: 0\n"
     ]
    },
    {
     "name": "stderr",
     "output_type": "stream",
     "text": [
      "/mnt/arquivos/1 Projetos/Artigo SBRC/sbrc2025/.venv/lib/python3.12/site-packages/sklearn/linear_model/_logistic.py:469: ConvergenceWarning: lbfgs failed to converge (status=1):\n",
      "STOP: TOTAL NO. of ITERATIONS REACHED LIMIT.\n",
      "\n",
      "Increase the number of iterations (max_iter) or scale the data as shown in:\n",
      "    https://scikit-learn.org/stable/modules/preprocessing.html\n",
      "Please also refer to the documentation for alternative solver options:\n",
      "    https://scikit-learn.org/stable/modules/linear_model.html#logistic-regression\n",
      "  n_iter_i = _check_optimize_result(\n"
     ]
    },
    {
     "name": "stdout",
     "output_type": "stream",
     "text": [
      "\t# cindex (with labels) with train_set at iteration 0: 0.7622596512147861\n",
      "\t# cindex (with labels) with val_set at iteration 0: 0.6338028169014085\n",
      "\tTime elapsed for the entire iteration:  0:00:02.026139\n",
      "######## iteration: 1\n"
     ]
    },
    {
     "name": "stderr",
     "output_type": "stream",
     "text": [
      "/mnt/arquivos/1 Projetos/Artigo SBRC/sbrc2025/.venv/lib/python3.12/site-packages/sklearn/linear_model/_logistic.py:469: ConvergenceWarning: lbfgs failed to converge (status=1):\n",
      "STOP: TOTAL NO. of ITERATIONS REACHED LIMIT.\n",
      "\n",
      "Increase the number of iterations (max_iter) or scale the data as shown in:\n",
      "    https://scikit-learn.org/stable/modules/preprocessing.html\n",
      "Please also refer to the documentation for alternative solver options:\n",
      "    https://scikit-learn.org/stable/modules/linear_model.html#logistic-regression\n",
      "  n_iter_i = _check_optimize_result(\n"
     ]
    },
    {
     "name": "stdout",
     "output_type": "stream",
     "text": [
      "\tTime elapsed for the entire iteration:  0:00:01.313700\n",
      "######## iteration: 2\n"
     ]
    },
    {
     "name": "stderr",
     "output_type": "stream",
     "text": [
      "/mnt/arquivos/1 Projetos/Artigo SBRC/sbrc2025/.venv/lib/python3.12/site-packages/sklearn/linear_model/_logistic.py:469: ConvergenceWarning: lbfgs failed to converge (status=1):\n",
      "STOP: TOTAL NO. of ITERATIONS REACHED LIMIT.\n",
      "\n",
      "Increase the number of iterations (max_iter) or scale the data as shown in:\n",
      "    https://scikit-learn.org/stable/modules/preprocessing.html\n",
      "Please also refer to the documentation for alternative solver options:\n",
      "    https://scikit-learn.org/stable/modules/linear_model.html#logistic-regression\n",
      "  n_iter_i = _check_optimize_result(\n"
     ]
    },
    {
     "name": "stdout",
     "output_type": "stream",
     "text": [
      "\tTime elapsed for the entire iteration:  0:00:01.379982\n",
      "######## iteration: 3\n"
     ]
    },
    {
     "name": "stderr",
     "output_type": "stream",
     "text": [
      "/mnt/arquivos/1 Projetos/Artigo SBRC/sbrc2025/.venv/lib/python3.12/site-packages/sklearn/linear_model/_logistic.py:469: ConvergenceWarning: lbfgs failed to converge (status=1):\n",
      "STOP: TOTAL NO. of ITERATIONS REACHED LIMIT.\n",
      "\n",
      "Increase the number of iterations (max_iter) or scale the data as shown in:\n",
      "    https://scikit-learn.org/stable/modules/preprocessing.html\n",
      "Please also refer to the documentation for alternative solver options:\n",
      "    https://scikit-learn.org/stable/modules/linear_model.html#logistic-regression\n",
      "  n_iter_i = _check_optimize_result(\n"
     ]
    },
    {
     "name": "stdout",
     "output_type": "stream",
     "text": [
      "\t# cindex (with labels) with train_set at iteration 3: 0.818080190788493\n",
      "\t# cindex (with labels) with val_set at iteration 3: 0.7087067861715749\n",
      "\tTime elapsed for the entire iteration:  0:00:01.715712\n",
      "######## iteration: 4\n"
     ]
    },
    {
     "name": "stderr",
     "output_type": "stream",
     "text": [
      "/mnt/arquivos/1 Projetos/Artigo SBRC/sbrc2025/.venv/lib/python3.12/site-packages/sklearn/linear_model/_logistic.py:469: ConvergenceWarning: lbfgs failed to converge (status=1):\n",
      "STOP: TOTAL NO. of ITERATIONS REACHED LIMIT.\n",
      "\n",
      "Increase the number of iterations (max_iter) or scale the data as shown in:\n",
      "    https://scikit-learn.org/stable/modules/preprocessing.html\n",
      "Please also refer to the documentation for alternative solver options:\n",
      "    https://scikit-learn.org/stable/modules/linear_model.html#logistic-regression\n",
      "  n_iter_i = _check_optimize_result(\n"
     ]
    },
    {
     "name": "stdout",
     "output_type": "stream",
     "text": [
      "\tTime elapsed for the entire iteration:  0:00:01.135064\n",
      "######## iteration: 5\n"
     ]
    },
    {
     "name": "stderr",
     "output_type": "stream",
     "text": [
      "/mnt/arquivos/1 Projetos/Artigo SBRC/sbrc2025/.venv/lib/python3.12/site-packages/sklearn/linear_model/_logistic.py:469: ConvergenceWarning: lbfgs failed to converge (status=1):\n",
      "STOP: TOTAL NO. of ITERATIONS REACHED LIMIT.\n",
      "\n",
      "Increase the number of iterations (max_iter) or scale the data as shown in:\n",
      "    https://scikit-learn.org/stable/modules/preprocessing.html\n",
      "Please also refer to the documentation for alternative solver options:\n",
      "    https://scikit-learn.org/stable/modules/linear_model.html#logistic-regression\n",
      "  n_iter_i = _check_optimize_result(\n"
     ]
    },
    {
     "name": "stdout",
     "output_type": "stream",
     "text": [
      "\tTime elapsed for the entire iteration:  0:00:01.172010\n",
      "######## iteration: 6\n"
     ]
    },
    {
     "name": "stderr",
     "output_type": "stream",
     "text": [
      "/mnt/arquivos/1 Projetos/Artigo SBRC/sbrc2025/.venv/lib/python3.12/site-packages/sklearn/linear_model/_logistic.py:469: ConvergenceWarning: lbfgs failed to converge (status=1):\n",
      "STOP: TOTAL NO. of ITERATIONS REACHED LIMIT.\n",
      "\n",
      "Increase the number of iterations (max_iter) or scale the data as shown in:\n",
      "    https://scikit-learn.org/stable/modules/preprocessing.html\n",
      "Please also refer to the documentation for alternative solver options:\n",
      "    https://scikit-learn.org/stable/modules/linear_model.html#logistic-regression\n",
      "  n_iter_i = _check_optimize_result(\n"
     ]
    },
    {
     "name": "stdout",
     "output_type": "stream",
     "text": [
      "\t# cindex (with labels) with train_set at iteration 6: 0.8159934416455508\n",
      "\t# cindex (with labels) with val_set at iteration 6: 0.7580025608194623\n",
      "\tTime elapsed for the entire iteration:  0:00:01.748538\n",
      "######## iteration: 7\n"
     ]
    },
    {
     "name": "stderr",
     "output_type": "stream",
     "text": [
      "/mnt/arquivos/1 Projetos/Artigo SBRC/sbrc2025/.venv/lib/python3.12/site-packages/sklearn/linear_model/_logistic.py:469: ConvergenceWarning: lbfgs failed to converge (status=1):\n",
      "STOP: TOTAL NO. of ITERATIONS REACHED LIMIT.\n",
      "\n",
      "Increase the number of iterations (max_iter) or scale the data as shown in:\n",
      "    https://scikit-learn.org/stable/modules/preprocessing.html\n",
      "Please also refer to the documentation for alternative solver options:\n",
      "    https://scikit-learn.org/stable/modules/linear_model.html#logistic-regression\n",
      "  n_iter_i = _check_optimize_result(\n"
     ]
    },
    {
     "name": "stdout",
     "output_type": "stream",
     "text": [
      "\tTime elapsed for the entire iteration:  0:00:01.504939\n",
      "######## iteration: 8\n"
     ]
    },
    {
     "name": "stderr",
     "output_type": "stream",
     "text": [
      "/mnt/arquivos/1 Projetos/Artigo SBRC/sbrc2025/.venv/lib/python3.12/site-packages/sklearn/linear_model/_logistic.py:469: ConvergenceWarning: lbfgs failed to converge (status=1):\n",
      "STOP: TOTAL NO. of ITERATIONS REACHED LIMIT.\n",
      "\n",
      "Increase the number of iterations (max_iter) or scale the data as shown in:\n",
      "    https://scikit-learn.org/stable/modules/preprocessing.html\n",
      "Please also refer to the documentation for alternative solver options:\n",
      "    https://scikit-learn.org/stable/modules/linear_model.html#logistic-regression\n",
      "  n_iter_i = _check_optimize_result(\n"
     ]
    },
    {
     "name": "stdout",
     "output_type": "stream",
     "text": [
      "\tTime elapsed for the entire iteration:  0:00:01.572031\n",
      "######## iteration: 9\n"
     ]
    },
    {
     "name": "stderr",
     "output_type": "stream",
     "text": [
      "/mnt/arquivos/1 Projetos/Artigo SBRC/sbrc2025/.venv/lib/python3.12/site-packages/sklearn/linear_model/_logistic.py:469: ConvergenceWarning: lbfgs failed to converge (status=1):\n",
      "STOP: TOTAL NO. of ITERATIONS REACHED LIMIT.\n",
      "\n",
      "Increase the number of iterations (max_iter) or scale the data as shown in:\n",
      "    https://scikit-learn.org/stable/modules/preprocessing.html\n",
      "Please also refer to the documentation for alternative solver options:\n",
      "    https://scikit-learn.org/stable/modules/linear_model.html#logistic-regression\n",
      "  n_iter_i = _check_optimize_result(\n"
     ]
    },
    {
     "name": "stdout",
     "output_type": "stream",
     "text": [
      "\t# cindex (with labels) with train_set at iteration 9: 0.8159934416455508\n",
      "\t# cindex (with labels) with val_set at iteration 9: 0.7323943661971831\n",
      "\t\tcindex_by_ite[-2]['cindex']: 0.8159934416455508, cindex_by_ite[-1]['cindex']: 0.8159934416455508\n",
      "\t\tcindex_val_by_ite[-2]['cindex']: 0.7580025608194623, cindex_val_by_ite[-1]['cindex']: 0.7323943661971831\n",
      "######## Converged: 9 ########\n",
      "######## Time for all iterations:0:00:15.066372 ########\n",
      "\n",
      "\n",
      "######## iteration: 0\n"
     ]
    },
    {
     "name": "stderr",
     "output_type": "stream",
     "text": [
      "/mnt/arquivos/1 Projetos/Artigo SBRC/sbrc2025/.venv/lib/python3.12/site-packages/sklearn/linear_model/_logistic.py:469: ConvergenceWarning: lbfgs failed to converge (status=1):\n",
      "STOP: TOTAL NO. of ITERATIONS REACHED LIMIT.\n",
      "\n",
      "Increase the number of iterations (max_iter) or scale the data as shown in:\n",
      "    https://scikit-learn.org/stable/modules/preprocessing.html\n",
      "Please also refer to the documentation for alternative solver options:\n",
      "    https://scikit-learn.org/stable/modules/linear_model.html#logistic-regression\n",
      "  n_iter_i = _check_optimize_result(\n"
     ]
    },
    {
     "name": "stdout",
     "output_type": "stream",
     "text": [
      "\t# cindex (with labels) with train_set at iteration 0: 0.6969742137427336\n",
      "\t# cindex (with labels) with val_set at iteration 0: 0.6638924455825864\n",
      "\tTime elapsed for the entire iteration:  0:00:01.742007\n",
      "######## iteration: 1\n"
     ]
    },
    {
     "name": "stderr",
     "output_type": "stream",
     "text": [
      "/mnt/arquivos/1 Projetos/Artigo SBRC/sbrc2025/.venv/lib/python3.12/site-packages/sklearn/linear_model/_logistic.py:469: ConvergenceWarning: lbfgs failed to converge (status=1):\n",
      "STOP: TOTAL NO. of ITERATIONS REACHED LIMIT.\n",
      "\n",
      "Increase the number of iterations (max_iter) or scale the data as shown in:\n",
      "    https://scikit-learn.org/stable/modules/preprocessing.html\n",
      "Please also refer to the documentation for alternative solver options:\n",
      "    https://scikit-learn.org/stable/modules/linear_model.html#logistic-regression\n",
      "  n_iter_i = _check_optimize_result(\n"
     ]
    },
    {
     "name": "stdout",
     "output_type": "stream",
     "text": [
      "\tTime elapsed for the entire iteration:  0:00:01.156343\n",
      "######## iteration: 2\n"
     ]
    },
    {
     "name": "stderr",
     "output_type": "stream",
     "text": [
      "/mnt/arquivos/1 Projetos/Artigo SBRC/sbrc2025/.venv/lib/python3.12/site-packages/sklearn/linear_model/_logistic.py:469: ConvergenceWarning: lbfgs failed to converge (status=1):\n",
      "STOP: TOTAL NO. of ITERATIONS REACHED LIMIT.\n",
      "\n",
      "Increase the number of iterations (max_iter) or scale the data as shown in:\n",
      "    https://scikit-learn.org/stable/modules/preprocessing.html\n",
      "Please also refer to the documentation for alternative solver options:\n",
      "    https://scikit-learn.org/stable/modules/linear_model.html#logistic-regression\n",
      "  n_iter_i = _check_optimize_result(\n"
     ]
    },
    {
     "name": "stdout",
     "output_type": "stream",
     "text": [
      "\tTime elapsed for the entire iteration:  0:00:01.174245\n",
      "######## iteration: 3\n"
     ]
    },
    {
     "name": "stderr",
     "output_type": "stream",
     "text": [
      "/mnt/arquivos/1 Projetos/Artigo SBRC/sbrc2025/.venv/lib/python3.12/site-packages/sklearn/linear_model/_logistic.py:469: ConvergenceWarning: lbfgs failed to converge (status=1):\n",
      "STOP: TOTAL NO. of ITERATIONS REACHED LIMIT.\n",
      "\n",
      "Increase the number of iterations (max_iter) or scale the data as shown in:\n",
      "    https://scikit-learn.org/stable/modules/preprocessing.html\n",
      "Please also refer to the documentation for alternative solver options:\n",
      "    https://scikit-learn.org/stable/modules/linear_model.html#logistic-regression\n",
      "  n_iter_i = _check_optimize_result(\n"
     ]
    },
    {
     "name": "stdout",
     "output_type": "stream",
     "text": [
      "\t# cindex (with labels) with train_set at iteration 3: 0.8218810552988522\n",
      "\t# cindex (with labels) with val_set at iteration 3: 0.7317541613316261\n",
      "\tTime elapsed for the entire iteration:  0:00:01.812351\n",
      "######## iteration: 4\n"
     ]
    },
    {
     "name": "stderr",
     "output_type": "stream",
     "text": [
      "/mnt/arquivos/1 Projetos/Artigo SBRC/sbrc2025/.venv/lib/python3.12/site-packages/sklearn/linear_model/_logistic.py:469: ConvergenceWarning: lbfgs failed to converge (status=1):\n",
      "STOP: TOTAL NO. of ITERATIONS REACHED LIMIT.\n",
      "\n",
      "Increase the number of iterations (max_iter) or scale the data as shown in:\n",
      "    https://scikit-learn.org/stable/modules/preprocessing.html\n",
      "Please also refer to the documentation for alternative solver options:\n",
      "    https://scikit-learn.org/stable/modules/linear_model.html#logistic-regression\n",
      "  n_iter_i = _check_optimize_result(\n"
     ]
    },
    {
     "name": "stdout",
     "output_type": "stream",
     "text": [
      "\tTime elapsed for the entire iteration:  0:00:01.168278\n",
      "######## iteration: 5\n"
     ]
    },
    {
     "name": "stderr",
     "output_type": "stream",
     "text": [
      "/mnt/arquivos/1 Projetos/Artigo SBRC/sbrc2025/.venv/lib/python3.12/site-packages/sklearn/linear_model/_logistic.py:469: ConvergenceWarning: lbfgs failed to converge (status=1):\n",
      "STOP: TOTAL NO. of ITERATIONS REACHED LIMIT.\n",
      "\n",
      "Increase the number of iterations (max_iter) or scale the data as shown in:\n",
      "    https://scikit-learn.org/stable/modules/preprocessing.html\n",
      "Please also refer to the documentation for alternative solver options:\n",
      "    https://scikit-learn.org/stable/modules/linear_model.html#logistic-regression\n",
      "  n_iter_i = _check_optimize_result(\n"
     ]
    },
    {
     "name": "stdout",
     "output_type": "stream",
     "text": [
      "\tTime elapsed for the entire iteration:  0:00:01.169380\n",
      "######## iteration: 6\n"
     ]
    },
    {
     "name": "stderr",
     "output_type": "stream",
     "text": [
      "/mnt/arquivos/1 Projetos/Artigo SBRC/sbrc2025/.venv/lib/python3.12/site-packages/sklearn/linear_model/_logistic.py:469: ConvergenceWarning: lbfgs failed to converge (status=1):\n",
      "STOP: TOTAL NO. of ITERATIONS REACHED LIMIT.\n",
      "\n",
      "Increase the number of iterations (max_iter) or scale the data as shown in:\n",
      "    https://scikit-learn.org/stable/modules/preprocessing.html\n",
      "Please also refer to the documentation for alternative solver options:\n",
      "    https://scikit-learn.org/stable/modules/linear_model.html#logistic-regression\n",
      "  n_iter_i = _check_optimize_result(\n"
     ]
    },
    {
     "name": "stdout",
     "output_type": "stream",
     "text": [
      "\t# cindex (with labels) with train_set at iteration 6: 0.8254583395438962\n",
      "\t# cindex (with labels) with val_set at iteration 6: 0.7432778489116517\n",
      "\tTime elapsed for the entire iteration:  0:00:01.706487\n",
      "######## iteration: 7\n"
     ]
    },
    {
     "name": "stderr",
     "output_type": "stream",
     "text": [
      "/mnt/arquivos/1 Projetos/Artigo SBRC/sbrc2025/.venv/lib/python3.12/site-packages/sklearn/linear_model/_logistic.py:469: ConvergenceWarning: lbfgs failed to converge (status=1):\n",
      "STOP: TOTAL NO. of ITERATIONS REACHED LIMIT.\n",
      "\n",
      "Increase the number of iterations (max_iter) or scale the data as shown in:\n",
      "    https://scikit-learn.org/stable/modules/preprocessing.html\n",
      "Please also refer to the documentation for alternative solver options:\n",
      "    https://scikit-learn.org/stable/modules/linear_model.html#logistic-regression\n",
      "  n_iter_i = _check_optimize_result(\n"
     ]
    },
    {
     "name": "stdout",
     "output_type": "stream",
     "text": [
      "\tTime elapsed for the entire iteration:  0:00:01.157282\n",
      "######## iteration: 8\n"
     ]
    },
    {
     "name": "stderr",
     "output_type": "stream",
     "text": [
      "/mnt/arquivos/1 Projetos/Artigo SBRC/sbrc2025/.venv/lib/python3.12/site-packages/sklearn/linear_model/_logistic.py:469: ConvergenceWarning: lbfgs failed to converge (status=1):\n",
      "STOP: TOTAL NO. of ITERATIONS REACHED LIMIT.\n",
      "\n",
      "Increase the number of iterations (max_iter) or scale the data as shown in:\n",
      "    https://scikit-learn.org/stable/modules/preprocessing.html\n",
      "Please also refer to the documentation for alternative solver options:\n",
      "    https://scikit-learn.org/stable/modules/linear_model.html#logistic-regression\n",
      "  n_iter_i = _check_optimize_result(\n"
     ]
    },
    {
     "name": "stdout",
     "output_type": "stream",
     "text": [
      "\tTime elapsed for the entire iteration:  0:00:01.168153\n",
      "######## iteration: 9\n"
     ]
    },
    {
     "name": "stderr",
     "output_type": "stream",
     "text": [
      "/mnt/arquivos/1 Projetos/Artigo SBRC/sbrc2025/.venv/lib/python3.12/site-packages/sklearn/linear_model/_logistic.py:469: ConvergenceWarning: lbfgs failed to converge (status=1):\n",
      "STOP: TOTAL NO. of ITERATIONS REACHED LIMIT.\n",
      "\n",
      "Increase the number of iterations (max_iter) or scale the data as shown in:\n",
      "    https://scikit-learn.org/stable/modules/preprocessing.html\n",
      "Please also refer to the documentation for alternative solver options:\n",
      "    https://scikit-learn.org/stable/modules/linear_model.html#logistic-regression\n",
      "  n_iter_i = _check_optimize_result(\n"
     ]
    },
    {
     "name": "stdout",
     "output_type": "stream",
     "text": [
      "\t# cindex (with labels) with train_set at iteration 9: 0.8254583395438962\n",
      "\t# cindex (with labels) with val_set at iteration 9: 0.7432778489116517\n",
      "\t\tcindex_by_ite[-2]['cindex']: 0.8254583395438962, cindex_by_ite[-1]['cindex']: 0.8254583395438962\n",
      "\t\tcindex_val_by_ite[-2]['cindex']: 0.7432778489116517, cindex_val_by_ite[-1]['cindex']: 0.7432778489116517\n",
      "######## Converged: 9 ########\n",
      "######## Time for all iterations:0:00:13.747515 ########\n",
      "\n",
      "\n",
      "######## iteration: 0\n"
     ]
    },
    {
     "name": "stderr",
     "output_type": "stream",
     "text": [
      "/mnt/arquivos/1 Projetos/Artigo SBRC/sbrc2025/.venv/lib/python3.12/site-packages/sklearn/linear_model/_logistic.py:469: ConvergenceWarning: lbfgs failed to converge (status=1):\n",
      "STOP: TOTAL NO. of ITERATIONS REACHED LIMIT.\n",
      "\n",
      "Increase the number of iterations (max_iter) or scale the data as shown in:\n",
      "    https://scikit-learn.org/stable/modules/preprocessing.html\n",
      "Please also refer to the documentation for alternative solver options:\n",
      "    https://scikit-learn.org/stable/modules/linear_model.html#logistic-regression\n",
      "  n_iter_i = _check_optimize_result(\n"
     ]
    },
    {
     "name": "stdout",
     "output_type": "stream",
     "text": [
      "\t# cindex (with labels) with train_set at iteration 0: 0.6896705917424355\n",
      "\t# cindex (with labels) with val_set at iteration 0: 0.6440460947503202\n",
      "\tTime elapsed for the entire iteration:  0:00:01.804135\n",
      "######## iteration: 1\n"
     ]
    },
    {
     "name": "stderr",
     "output_type": "stream",
     "text": [
      "/mnt/arquivos/1 Projetos/Artigo SBRC/sbrc2025/.venv/lib/python3.12/site-packages/sklearn/linear_model/_logistic.py:469: ConvergenceWarning: lbfgs failed to converge (status=1):\n",
      "STOP: TOTAL NO. of ITERATIONS REACHED LIMIT.\n",
      "\n",
      "Increase the number of iterations (max_iter) or scale the data as shown in:\n",
      "    https://scikit-learn.org/stable/modules/preprocessing.html\n",
      "Please also refer to the documentation for alternative solver options:\n",
      "    https://scikit-learn.org/stable/modules/linear_model.html#logistic-regression\n",
      "  n_iter_i = _check_optimize_result(\n"
     ]
    },
    {
     "name": "stdout",
     "output_type": "stream",
     "text": [
      "\tTime elapsed for the entire iteration:  0:00:01.129760\n",
      "######## iteration: 2\n"
     ]
    },
    {
     "name": "stderr",
     "output_type": "stream",
     "text": [
      "/mnt/arquivos/1 Projetos/Artigo SBRC/sbrc2025/.venv/lib/python3.12/site-packages/sklearn/linear_model/_logistic.py:469: ConvergenceWarning: lbfgs failed to converge (status=1):\n",
      "STOP: TOTAL NO. of ITERATIONS REACHED LIMIT.\n",
      "\n",
      "Increase the number of iterations (max_iter) or scale the data as shown in:\n",
      "    https://scikit-learn.org/stable/modules/preprocessing.html\n",
      "Please also refer to the documentation for alternative solver options:\n",
      "    https://scikit-learn.org/stable/modules/linear_model.html#logistic-regression\n",
      "  n_iter_i = _check_optimize_result(\n"
     ]
    },
    {
     "name": "stdout",
     "output_type": "stream",
     "text": [
      "\tTime elapsed for the entire iteration:  0:00:00.981816\n",
      "######## iteration: 3\n"
     ]
    },
    {
     "name": "stderr",
     "output_type": "stream",
     "text": [
      "/mnt/arquivos/1 Projetos/Artigo SBRC/sbrc2025/.venv/lib/python3.12/site-packages/sklearn/linear_model/_logistic.py:469: ConvergenceWarning: lbfgs failed to converge (status=1):\n",
      "STOP: TOTAL NO. of ITERATIONS REACHED LIMIT.\n",
      "\n",
      "Increase the number of iterations (max_iter) or scale the data as shown in:\n",
      "    https://scikit-learn.org/stable/modules/preprocessing.html\n",
      "Please also refer to the documentation for alternative solver options:\n",
      "    https://scikit-learn.org/stable/modules/linear_model.html#logistic-regression\n",
      "  n_iter_i = _check_optimize_result(\n"
     ]
    },
    {
     "name": "stdout",
     "output_type": "stream",
     "text": [
      "\t# cindex (with labels) with train_set at iteration 3: 0.8623490833209122\n",
      "\t# cindex (with labels) with val_set at iteration 3: 0.7752880921895007\n",
      "\tTime elapsed for the entire iteration:  0:00:01.411793\n",
      "######## iteration: 4\n"
     ]
    },
    {
     "name": "stderr",
     "output_type": "stream",
     "text": [
      "/mnt/arquivos/1 Projetos/Artigo SBRC/sbrc2025/.venv/lib/python3.12/site-packages/sklearn/linear_model/_logistic.py:469: ConvergenceWarning: lbfgs failed to converge (status=1):\n",
      "STOP: TOTAL NO. of ITERATIONS REACHED LIMIT.\n",
      "\n",
      "Increase the number of iterations (max_iter) or scale the data as shown in:\n",
      "    https://scikit-learn.org/stable/modules/preprocessing.html\n",
      "Please also refer to the documentation for alternative solver options:\n",
      "    https://scikit-learn.org/stable/modules/linear_model.html#logistic-regression\n",
      "  n_iter_i = _check_optimize_result(\n"
     ]
    },
    {
     "name": "stdout",
     "output_type": "stream",
     "text": [
      "\tTime elapsed for the entire iteration:  0:00:00.918380\n",
      "######## iteration: 5\n"
     ]
    },
    {
     "name": "stderr",
     "output_type": "stream",
     "text": [
      "/mnt/arquivos/1 Projetos/Artigo SBRC/sbrc2025/.venv/lib/python3.12/site-packages/sklearn/linear_model/_logistic.py:469: ConvergenceWarning: lbfgs failed to converge (status=1):\n",
      "STOP: TOTAL NO. of ITERATIONS REACHED LIMIT.\n",
      "\n",
      "Increase the number of iterations (max_iter) or scale the data as shown in:\n",
      "    https://scikit-learn.org/stable/modules/preprocessing.html\n",
      "Please also refer to the documentation for alternative solver options:\n",
      "    https://scikit-learn.org/stable/modules/linear_model.html#logistic-regression\n",
      "  n_iter_i = _check_optimize_result(\n"
     ]
    },
    {
     "name": "stdout",
     "output_type": "stream",
     "text": [
      "\tTime elapsed for the entire iteration:  0:00:00.932250\n",
      "######## iteration: 6\n"
     ]
    },
    {
     "name": "stderr",
     "output_type": "stream",
     "text": [
      "/mnt/arquivos/1 Projetos/Artigo SBRC/sbrc2025/.venv/lib/python3.12/site-packages/sklearn/linear_model/_logistic.py:469: ConvergenceWarning: lbfgs failed to converge (status=1):\n",
      "STOP: TOTAL NO. of ITERATIONS REACHED LIMIT.\n",
      "\n",
      "Increase the number of iterations (max_iter) or scale the data as shown in:\n",
      "    https://scikit-learn.org/stable/modules/preprocessing.html\n",
      "Please also refer to the documentation for alternative solver options:\n",
      "    https://scikit-learn.org/stable/modules/linear_model.html#logistic-regression\n",
      "  n_iter_i = _check_optimize_result(\n"
     ]
    },
    {
     "name": "stdout",
     "output_type": "stream",
     "text": [
      "\t# cindex (with labels) with train_set at iteration 6: 0.8508719630347295\n",
      "\t# cindex (with labels) with val_set at iteration 6: 0.7701664532650448\n",
      "\tTime elapsed for the entire iteration:  0:00:01.417740\n",
      "######## iteration: 7\n"
     ]
    },
    {
     "name": "stderr",
     "output_type": "stream",
     "text": [
      "/mnt/arquivos/1 Projetos/Artigo SBRC/sbrc2025/.venv/lib/python3.12/site-packages/sklearn/linear_model/_logistic.py:469: ConvergenceWarning: lbfgs failed to converge (status=1):\n",
      "STOP: TOTAL NO. of ITERATIONS REACHED LIMIT.\n",
      "\n",
      "Increase the number of iterations (max_iter) or scale the data as shown in:\n",
      "    https://scikit-learn.org/stable/modules/preprocessing.html\n",
      "Please also refer to the documentation for alternative solver options:\n",
      "    https://scikit-learn.org/stable/modules/linear_model.html#logistic-regression\n",
      "  n_iter_i = _check_optimize_result(\n"
     ]
    },
    {
     "name": "stdout",
     "output_type": "stream",
     "text": [
      "\tTime elapsed for the entire iteration:  0:00:00.914330\n",
      "######## iteration: 8\n"
     ]
    },
    {
     "name": "stderr",
     "output_type": "stream",
     "text": [
      "/mnt/arquivos/1 Projetos/Artigo SBRC/sbrc2025/.venv/lib/python3.12/site-packages/sklearn/linear_model/_logistic.py:469: ConvergenceWarning: lbfgs failed to converge (status=1):\n",
      "STOP: TOTAL NO. of ITERATIONS REACHED LIMIT.\n",
      "\n",
      "Increase the number of iterations (max_iter) or scale the data as shown in:\n",
      "    https://scikit-learn.org/stable/modules/preprocessing.html\n",
      "Please also refer to the documentation for alternative solver options:\n",
      "    https://scikit-learn.org/stable/modules/linear_model.html#logistic-regression\n",
      "  n_iter_i = _check_optimize_result(\n"
     ]
    },
    {
     "name": "stdout",
     "output_type": "stream",
     "text": [
      "\tTime elapsed for the entire iteration:  0:00:00.937324\n",
      "######## iteration: 9\n"
     ]
    },
    {
     "name": "stderr",
     "output_type": "stream",
     "text": [
      "/mnt/arquivos/1 Projetos/Artigo SBRC/sbrc2025/.venv/lib/python3.12/site-packages/sklearn/linear_model/_logistic.py:469: ConvergenceWarning: lbfgs failed to converge (status=1):\n",
      "STOP: TOTAL NO. of ITERATIONS REACHED LIMIT.\n",
      "\n",
      "Increase the number of iterations (max_iter) or scale the data as shown in:\n",
      "    https://scikit-learn.org/stable/modules/preprocessing.html\n",
      "Please also refer to the documentation for alternative solver options:\n",
      "    https://scikit-learn.org/stable/modules/linear_model.html#logistic-regression\n",
      "  n_iter_i = _check_optimize_result(\n"
     ]
    },
    {
     "name": "stdout",
     "output_type": "stream",
     "text": [
      "\t# cindex (with labels) with train_set at iteration 9: 0.8508719630347295\n",
      "\t# cindex (with labels) with val_set at iteration 9: 0.7701664532650448\n",
      "\t\tcindex_by_ite[-2]['cindex']: 0.8508719630347295, cindex_by_ite[-1]['cindex']: 0.8508719630347295\n",
      "\t\tcindex_val_by_ite[-2]['cindex']: 0.7701664532650448, cindex_val_by_ite[-1]['cindex']: 0.7701664532650448\n",
      "######## Converged: 9 ########\n",
      "######## Time for all iterations:0:00:11.663637 ########\n",
      "\n",
      "\n"
     ]
    },
    {
     "ename": "AttributeError",
     "evalue": "'DataFrame' object has no attribute 'append'",
     "output_type": "error",
     "traceback": [
      "\u001b[0;31m---------------------------------------------------------------------------\u001b[0m",
      "\u001b[0;31mAttributeError\u001b[0m                            Traceback (most recent call last)",
      "\u001b[0;32m<timed exec>\u001b[0m in \u001b[0;36m?\u001b[0;34m()\u001b[0m\n\u001b[1;32m      1\u001b[0m \u001b[0;34m'Could not get source, probably due dynamically evaluated source code.'\u001b[0m\u001b[0;34m\u001b[0m\u001b[0;34m\u001b[0m\u001b[0m\n",
      "\u001b[0;32m/mnt/arquivos/1 Projetos/Artigo SBRC/sbrc2025/SurvMixClust/model.py\u001b[0m in \u001b[0;36m?\u001b[0;34m(self, X, y)\u001b[0m\n\u001b[1;32m    138\u001b[0m \u001b[0;34m\u001b[0m\u001b[0m\n\u001b[1;32m    139\u001b[0m             \u001b[0;32mfrom\u001b[0m \u001b[0mcopy\u001b[0m \u001b[0;32mimport\u001b[0m \u001b[0mdeepcopy\u001b[0m\u001b[0;34m\u001b[0m\u001b[0;34m\u001b[0m\u001b[0m\n\u001b[1;32m    140\u001b[0m             \u001b[0minfo_list_K\u001b[0m\u001b[0;34m[\u001b[0m\u001b[0;34m(\u001b[0m\u001b[0mn_cluster\u001b[0m\u001b[0;34m)\u001b[0m\u001b[0;34m]\u001b[0m \u001b[0;34m=\u001b[0m \u001b[0mdeepcopy\u001b[0m\u001b[0;34m(\u001b[0m\u001b[0minfo_list\u001b[0m\u001b[0;34m)\u001b[0m\u001b[0;34m\u001b[0m\u001b[0;34m\u001b[0m\u001b[0m\n\u001b[1;32m    141\u001b[0m \u001b[0;34m\u001b[0m\u001b[0m\n\u001b[0;32m--> 142\u001b[0;31m         \u001b[0msub_experiment_key\u001b[0m\u001b[0;34m,\u001b[0m \u001b[0midx\u001b[0m \u001b[0;34m=\u001b[0m \u001b[0mbest_model_keys_from_info_list_K\u001b[0m\u001b[0;34m(\u001b[0m\u001b[0minfo_list_K\u001b[0m\u001b[0;34m)\u001b[0m\u001b[0;34m\u001b[0m\u001b[0;34m\u001b[0m\u001b[0m\n\u001b[0m\u001b[1;32m    143\u001b[0m \u001b[0;34m\u001b[0m\u001b[0m\n\u001b[1;32m    144\u001b[0m         \u001b[0mself\u001b[0m\u001b[0;34m.\u001b[0m\u001b[0minfo_list_K\u001b[0m \u001b[0;34m=\u001b[0m \u001b[0minfo_list_K\u001b[0m\u001b[0;34m\u001b[0m\u001b[0;34m\u001b[0m\u001b[0m\n\u001b[1;32m    145\u001b[0m \u001b[0;34m\u001b[0m\u001b[0m\n",
      "\u001b[0;32m/mnt/arquivos/1 Projetos/Artigo SBRC/sbrc2025/SurvMixClust/utils.py\u001b[0m in \u001b[0;36m?\u001b[0;34m(info_list_K)\u001b[0m\n\u001b[1;32m    419\u001b[0m     \u001b[0mtuple\u001b[0m \u001b[0mof\u001b[0m \u001b[0mint\u001b[0m\u001b[0;34m\u001b[0m\u001b[0;34m\u001b[0m\u001b[0m\n\u001b[1;32m    420\u001b[0m         \u001b[0;34m(\u001b[0m\u001b[0mn_cluster\u001b[0m\u001b[0;34m,\u001b[0m \u001b[0midx\u001b[0m\u001b[0;34m)\u001b[0m \u001b[0mof\u001b[0m \u001b[0mthe\u001b[0m \u001b[0mbest\u001b[0m \u001b[0mmodel\u001b[0m \u001b[0;32min\u001b[0m \u001b[0minfo_list_K\u001b[0m\u001b[0;34m.\u001b[0m\u001b[0;34m\u001b[0m\u001b[0;34m\u001b[0m\u001b[0m\n\u001b[1;32m    421\u001b[0m     \"\"\"\n\u001b[1;32m    422\u001b[0m \u001b[0;34m\u001b[0m\u001b[0m\n\u001b[0;32m--> 423\u001b[0;31m     \u001b[0minfo_flat\u001b[0m \u001b[0;34m=\u001b[0m \u001b[0minfo_flat_from_info_list_K\u001b[0m\u001b[0;34m(\u001b[0m\u001b[0minfo_list_K\u001b[0m\u001b[0;34m)\u001b[0m\u001b[0;34m\u001b[0m\u001b[0;34m\u001b[0m\u001b[0m\n\u001b[0m\u001b[1;32m    424\u001b[0m \u001b[0;34m\u001b[0m\u001b[0m\n\u001b[1;32m    425\u001b[0m     \u001b[0mbest_model_row\u001b[0m \u001b[0;34m=\u001b[0m \u001b[0minfo_flat\u001b[0m\u001b[0;34m.\u001b[0m\u001b[0msort_values\u001b[0m\u001b[0;34m(\u001b[0m\u001b[0mby\u001b[0m\u001b[0;34m=\u001b[0m\u001b[0;34m[\u001b[0m\u001b[0;34m'cindex_val'\u001b[0m\u001b[0;34m]\u001b[0m\u001b[0;34m)\u001b[0m\u001b[0;34m.\u001b[0m\u001b[0miloc\u001b[0m\u001b[0;34m[\u001b[0m\u001b[0;34m-\u001b[0m\u001b[0;36m1\u001b[0m\u001b[0;34m,\u001b[0m\u001b[0;34m:\u001b[0m\u001b[0;34m]\u001b[0m\u001b[0;34m\u001b[0m\u001b[0;34m\u001b[0m\u001b[0m\n\u001b[1;32m    426\u001b[0m \u001b[0;34m\u001b[0m\u001b[0m\n",
      "\u001b[0;32m/mnt/arquivos/1 Projetos/Artigo SBRC/sbrc2025/SurvMixClust/utils.py\u001b[0m in \u001b[0;36m?\u001b[0;34m(info_list_K)\u001b[0m\n\u001b[1;32m    396\u001b[0m             \u001b[0minfo_list_K\u001b[0m\u001b[0;34m[\u001b[0m\u001b[0mn_clusters\u001b[0m\u001b[0;34m]\u001b[0m\u001b[0;34m[\u001b[0m\u001b[0midx\u001b[0m\u001b[0;34m]\u001b[0m \u001b[0;34m=\u001b[0m \u001b[0minfo\u001b[0m\u001b[0;34m\u001b[0m\u001b[0;34m\u001b[0m\u001b[0m\n\u001b[1;32m    397\u001b[0m \u001b[0;34m\u001b[0m\u001b[0m\n\u001b[1;32m    398\u001b[0m             \u001b[0;32mif\u001b[0m \u001b[0minfo\u001b[0m\u001b[0;34m[\u001b[0m\u001b[0;34m'cindex_val_by_ite'\u001b[0m\u001b[0;34m]\u001b[0m\u001b[0;34m[\u001b[0m\u001b[0;34m-\u001b[0m\u001b[0;36m1\u001b[0m\u001b[0;34m]\u001b[0m\u001b[0;34m[\u001b[0m\u001b[0;34m'cindex'\u001b[0m\u001b[0;34m]\u001b[0m \u001b[0;34m!=\u001b[0m \u001b[0;34m-\u001b[0m\u001b[0;36m1\u001b[0m\u001b[0;34m:\u001b[0m\u001b[0;34m\u001b[0m\u001b[0;34m\u001b[0m\u001b[0m\n\u001b[1;32m    399\u001b[0m \u001b[0;34m\u001b[0m\u001b[0m\n\u001b[0;32m--> 400\u001b[0;31m                 info_flat = info_flat.append(pd.DataFrame(data=[[n_clusters, idx, info['cindex_val_by_ite'][-1]['cindex'], info['cindex_last'],\\\n\u001b[0m\u001b[1;32m    401\u001b[0m                                               \u001b[0minfo\u001b[0m\u001b[0;34m[\u001b[0m\u001b[0;34m'cindex_val_by_ite'\u001b[0m\u001b[0;34m]\u001b[0m\u001b[0;34m[\u001b[0m\u001b[0;34m-\u001b[0m\u001b[0;36m1\u001b[0m\u001b[0;34m]\u001b[0m\u001b[0;34m[\u001b[0m\u001b[0;34m'integrated_nbll'\u001b[0m\u001b[0;34m]\u001b[0m\u001b[0;34m,\u001b[0m \u001b[0minfo\u001b[0m\u001b[0;34m[\u001b[0m\u001b[0;34m'cindex_by_ite'\u001b[0m\u001b[0;34m]\u001b[0m\u001b[0;34m[\u001b[0m\u001b[0;34m-\u001b[0m\u001b[0;36m1\u001b[0m\u001b[0;34m]\u001b[0m\u001b[0;34m[\u001b[0m\u001b[0;34m'integrated_nbll'\u001b[0m\u001b[0;34m]\u001b[0m\u001b[0;34m,\u001b[0m\u001b[0;34m\u001b[0m\u001b[0;34m\u001b[0m\u001b[0m\n\u001b[1;32m    402\u001b[0m                                               \u001b[0minfo\u001b[0m\u001b[0;34m[\u001b[0m\u001b[0;34m'cindex_val_by_ite'\u001b[0m\u001b[0;34m]\u001b[0m\u001b[0;34m[\u001b[0m\u001b[0;34m-\u001b[0m\u001b[0;36m1\u001b[0m\u001b[0;34m]\u001b[0m\u001b[0;34m[\u001b[0m\u001b[0;34m'integrated_brier_score'\u001b[0m\u001b[0;34m]\u001b[0m\u001b[0;34m,\u001b[0m \u001b[0minfo\u001b[0m\u001b[0;34m[\u001b[0m\u001b[0;34m'cindex_by_ite'\u001b[0m\u001b[0;34m]\u001b[0m\u001b[0;34m[\u001b[0m\u001b[0;34m-\u001b[0m\u001b[0;36m1\u001b[0m\u001b[0;34m]\u001b[0m\u001b[0;34m[\u001b[0m\u001b[0;34m'integrated_brier_score'\u001b[0m\u001b[0;34m]\u001b[0m\u001b[0;34m,\u001b[0m\u001b[0;34m\u001b[0m\u001b[0;34m\u001b[0m\u001b[0m\n\u001b[1;32m    403\u001b[0m                                               \u001b[0;34m]\u001b[0m\u001b[0;34m]\u001b[0m\u001b[0;34m,\u001b[0m\u001b[0;34m\u001b[0m\u001b[0;34m\u001b[0m\u001b[0m\n",
      "\u001b[0;32m/mnt/arquivos/1 Projetos/Artigo SBRC/sbrc2025/.venv/lib/python3.12/site-packages/pandas/core/generic.py\u001b[0m in \u001b[0;36m?\u001b[0;34m(self, name)\u001b[0m\n\u001b[1;32m   6295\u001b[0m             \u001b[0;32mand\u001b[0m \u001b[0mname\u001b[0m \u001b[0;32mnot\u001b[0m \u001b[0;32min\u001b[0m \u001b[0mself\u001b[0m\u001b[0;34m.\u001b[0m\u001b[0m_accessors\u001b[0m\u001b[0;34m\u001b[0m\u001b[0;34m\u001b[0m\u001b[0m\n\u001b[1;32m   6296\u001b[0m             \u001b[0;32mand\u001b[0m \u001b[0mself\u001b[0m\u001b[0;34m.\u001b[0m\u001b[0m_info_axis\u001b[0m\u001b[0;34m.\u001b[0m\u001b[0m_can_hold_identifiers_and_holds_name\u001b[0m\u001b[0;34m(\u001b[0m\u001b[0mname\u001b[0m\u001b[0;34m)\u001b[0m\u001b[0;34m\u001b[0m\u001b[0;34m\u001b[0m\u001b[0m\n\u001b[1;32m   6297\u001b[0m         \u001b[0;34m)\u001b[0m\u001b[0;34m:\u001b[0m\u001b[0;34m\u001b[0m\u001b[0;34m\u001b[0m\u001b[0m\n\u001b[1;32m   6298\u001b[0m             \u001b[0;32mreturn\u001b[0m \u001b[0mself\u001b[0m\u001b[0;34m[\u001b[0m\u001b[0mname\u001b[0m\u001b[0;34m]\u001b[0m\u001b[0;34m\u001b[0m\u001b[0;34m\u001b[0m\u001b[0m\n\u001b[0;32m-> 6299\u001b[0;31m         \u001b[0;32mreturn\u001b[0m \u001b[0mobject\u001b[0m\u001b[0;34m.\u001b[0m\u001b[0m__getattribute__\u001b[0m\u001b[0;34m(\u001b[0m\u001b[0mself\u001b[0m\u001b[0;34m,\u001b[0m \u001b[0mname\u001b[0m\u001b[0;34m)\u001b[0m\u001b[0;34m\u001b[0m\u001b[0;34m\u001b[0m\u001b[0m\n\u001b[0m",
      "\u001b[0;31mAttributeError\u001b[0m: 'DataFrame' object has no attribute 'append'"
     ]
    }
   ],
   "source": [
    "%%time\n",
    "model = SurvMixClust(n_clusters=[2,3,5], n_fits=3, max_EM_interations=60)\n",
    "model.fit(X_train_t, y_train_t)"
   ]
  },
  {
   "cell_type": "code",
   "execution_count": 12,
   "id": "e2c7b3df-55b6-4b8d-9ad5-e8339896850e",
   "metadata": {
    "tags": []
   },
   "outputs": [
    {
     "ename": "NotFittedError",
     "evalue": "This SurvMixClust instance is not fitted yet. Call 'fit' with appropriate arguments before using this estimator.",
     "output_type": "error",
     "traceback": [
      "\u001b[0;31m---------------------------------------------------------------------------\u001b[0m",
      "\u001b[0;31mNotFittedError\u001b[0m                            Traceback (most recent call last)",
      "Cell \u001b[0;32mIn[12], line 1\u001b[0m\n\u001b[0;32m----> 1\u001b[0m \u001b[43mmodel\u001b[49m\u001b[38;5;241;43m.\u001b[39;49m\u001b[43mscore\u001b[49m\u001b[43m(\u001b[49m\u001b[43mX_test\u001b[49m\u001b[43m,\u001b[49m\u001b[43m \u001b[49m\u001b[43my_test\u001b[49m\u001b[43m,\u001b[49m\u001b[43m \u001b[49m\u001b[43mmetric\u001b[49m\u001b[38;5;241;43m=\u001b[39;49m\u001b[38;5;124;43m'\u001b[39;49m\u001b[38;5;124;43mcindex\u001b[39;49m\u001b[38;5;124;43m'\u001b[39;49m\u001b[43m)\u001b[49m\n",
      "File \u001b[0;32m/mnt/arquivos/1 Projetos/Artigo SBRC/sbrc2025/SurvMixClust/model.py:297\u001b[0m, in \u001b[0;36mSurvMixClust.score\u001b[0;34m(self, X, y, metric, n_cluster, n_fit)\u001b[0m\n\u001b[1;32m    292\u001b[0m \u001b[38;5;28;01massert\u001b[39;00m (metric \u001b[38;5;129;01min\u001b[39;00m [\u001b[38;5;124m'\u001b[39m\u001b[38;5;124mcindex\u001b[39m\u001b[38;5;124m'\u001b[39m, \u001b[38;5;124m'\u001b[39m\u001b[38;5;124mc-index\u001b[39m\u001b[38;5;124m'\u001b[39m,\n\u001b[1;32m    293\u001b[0m         \u001b[38;5;124m'\u001b[39m\u001b[38;5;124mintegrated brier score\u001b[39m\u001b[38;5;124m'\u001b[39m, \u001b[38;5;124m'\u001b[39m\u001b[38;5;124mibs\u001b[39m\u001b[38;5;124m'\u001b[39m])\n\u001b[1;32m    296\u001b[0m \u001b[38;5;28;01mif\u001b[39;00m (n_cluster \u001b[38;5;129;01mis\u001b[39;00m \u001b[38;5;28;01mNone\u001b[39;00m) \u001b[38;5;129;01mand\u001b[39;00m (n_fit \u001b[38;5;129;01mis\u001b[39;00m \u001b[38;5;28;01mNone\u001b[39;00m):\n\u001b[0;32m--> 297\u001b[0m     surv_df \u001b[38;5;241m=\u001b[39m \u001b[38;5;28;43mself\u001b[39;49m\u001b[38;5;241;43m.\u001b[39;49m\u001b[43mpredict_surv_df\u001b[49m\u001b[43m(\u001b[49m\u001b[43mX\u001b[49m\u001b[43m)\u001b[49m\n\u001b[1;32m    299\u001b[0m \u001b[38;5;28;01melse\u001b[39;00m:\n\u001b[1;32m    300\u001b[0m     surv_df \u001b[38;5;241m=\u001b[39m \u001b[38;5;28mself\u001b[39m\u001b[38;5;241m.\u001b[39mpredict_surv_df(X, n_cluster\u001b[38;5;241m=\u001b[39mn_cluster, n_fit\u001b[38;5;241m=\u001b[39mn_fit)\n",
      "File \u001b[0;32m/mnt/arquivos/1 Projetos/Artigo SBRC/sbrc2025/SurvMixClust/model.py:181\u001b[0m, in \u001b[0;36mSurvMixClust.predict_surv_df\u001b[0;34m(self, X, n_cluster, n_fit)\u001b[0m\n\u001b[1;32m    158\u001b[0m \u001b[38;5;250m\u001b[39m\u001b[38;5;124;03m\"\"\"It utilizes the best performing model obtained in model.fit to predict the survival function for each sample in X.\u001b[39;00m\n\u001b[1;32m    159\u001b[0m \u001b[38;5;124;03mYou can choose a specific model from the list of models generated in model.fit by specifying n_cluster and n_fit.\u001b[39;00m\n\u001b[1;32m    160\u001b[0m \n\u001b[0;32m   (...)\u001b[0m\n\u001b[1;32m    177\u001b[0m \u001b[38;5;124;03m    The indexes represent time and columns indicate each sample in X.\u001b[39;00m\n\u001b[1;32m    178\u001b[0m \u001b[38;5;124;03m\"\"\"\u001b[39;00m\n\u001b[1;32m    180\u001b[0m \u001b[38;5;66;03m# Check if fit had been called.\u001b[39;00m\n\u001b[0;32m--> 181\u001b[0m \u001b[43mcheck_is_fitted\u001b[49m\u001b[43m(\u001b[49m\u001b[38;5;28;43mself\u001b[39;49m\u001b[43m,\u001b[49m\u001b[43m \u001b[49m\u001b[43m[\u001b[49m\u001b[38;5;124;43m'\u001b[39;49m\u001b[38;5;124;43mX_\u001b[39;49m\u001b[38;5;124;43m'\u001b[39;49m\u001b[43m,\u001b[49m\u001b[43m \u001b[49m\u001b[38;5;124;43m'\u001b[39;49m\u001b[38;5;124;43my_\u001b[39;49m\u001b[38;5;124;43m'\u001b[39;49m\u001b[43m]\u001b[49m\u001b[43m)\u001b[49m\n\u001b[1;32m    183\u001b[0m \u001b[38;5;66;03m# Input validation\u001b[39;00m\n\u001b[1;32m    184\u001b[0m X \u001b[38;5;241m=\u001b[39m check_array(X)\u001b[38;5;241m.\u001b[39mastype(\u001b[38;5;124m'\u001b[39m\u001b[38;5;124mfloat32\u001b[39m\u001b[38;5;124m'\u001b[39m)\n",
      "File \u001b[0;32m/mnt/arquivos/1 Projetos/Artigo SBRC/sbrc2025/.venv/lib/python3.12/site-packages/sklearn/utils/validation.py:1661\u001b[0m, in \u001b[0;36mcheck_is_fitted\u001b[0;34m(estimator, attributes, msg, all_or_any)\u001b[0m\n\u001b[1;32m   1658\u001b[0m     \u001b[38;5;28;01mraise\u001b[39;00m \u001b[38;5;167;01mTypeError\u001b[39;00m(\u001b[38;5;124m\"\u001b[39m\u001b[38;5;132;01m%s\u001b[39;00m\u001b[38;5;124m is not an estimator instance.\u001b[39m\u001b[38;5;124m\"\u001b[39m \u001b[38;5;241m%\u001b[39m (estimator))\n\u001b[1;32m   1660\u001b[0m \u001b[38;5;28;01mif\u001b[39;00m \u001b[38;5;129;01mnot\u001b[39;00m _is_fitted(estimator, attributes, all_or_any):\n\u001b[0;32m-> 1661\u001b[0m     \u001b[38;5;28;01mraise\u001b[39;00m NotFittedError(msg \u001b[38;5;241m%\u001b[39m {\u001b[38;5;124m\"\u001b[39m\u001b[38;5;124mname\u001b[39m\u001b[38;5;124m\"\u001b[39m: \u001b[38;5;28mtype\u001b[39m(estimator)\u001b[38;5;241m.\u001b[39m\u001b[38;5;18m__name__\u001b[39m})\n",
      "\u001b[0;31mNotFittedError\u001b[0m: This SurvMixClust instance is not fitted yet. Call 'fit' with appropriate arguments before using this estimator."
     ]
    }
   ],
   "source": [
    "model.score(X_test, y_test, metric='cindex')"
   ]
  },
  {
   "cell_type": "code",
   "execution_count": 35,
   "id": "71ed0335-9e4e-4ca5-8e43-9306896ca704",
   "metadata": {},
   "outputs": [
    {
     "data": {
      "text/plain": [
       "array([0, 1, 0, ..., 0, 1, 1])"
      ]
     },
     "execution_count": 35,
     "metadata": {},
     "output_type": "execute_result"
    }
   ],
   "source": [
    "model.training_set_labels()"
   ]
  },
  {
   "cell_type": "code",
   "execution_count": 36,
   "id": "8539edb1-ab00-46bb-9e3c-636e1acbb607",
   "metadata": {
    "tags": []
   },
   "outputs": [
    {
     "data": {
      "text/plain": [
       "array([0, 0, 0, 1, 0, 1, 0, 1, 0, 0, 0, 1, 0, 1, 1, 0, 1, 0, 1, 1, 0, 0,\n",
       "       0, 1, 1, 0, 1, 0, 0, 0, 1, 1, 1, 1, 0, 1, 0, 1, 0, 1, 0, 1, 1, 0,\n",
       "       0, 1, 0, 0, 0, 1, 0, 1, 0, 1, 0, 1, 1, 1, 1, 0, 0, 1, 0, 1, 1, 1,\n",
       "       0, 1, 1, 0, 1, 1, 0, 1, 1, 1, 1, 0, 1, 1, 1, 1, 0, 1, 1, 1, 1, 0,\n",
       "       0, 1, 0, 1, 1, 0, 0, 1, 0, 0, 1, 0, 0, 0, 0, 1, 1, 0, 1, 1, 0, 0,\n",
       "       0, 0, 1, 0, 0, 1, 1, 1, 0, 1, 1, 1, 0, 0, 0, 1, 0, 1, 0, 1, 0, 0,\n",
       "       0, 1, 1, 0, 1, 1, 1, 1, 0, 0, 0, 1, 0, 0, 0, 1, 1, 0, 0, 0, 1, 1,\n",
       "       0, 0, 1, 1, 1, 1, 1, 1, 0, 0, 1, 0, 1, 0, 1, 0, 1, 0, 0, 0, 1, 0,\n",
       "       0, 0, 1, 0, 1, 1, 1, 1, 1, 0, 0, 0, 1, 1, 1, 1, 1, 1, 0, 1, 0, 1,\n",
       "       1, 0, 1, 0, 0, 0, 0, 1, 0, 0, 0, 1, 0, 1, 0, 1, 1, 1, 0, 1, 1, 0,\n",
       "       0, 1, 1, 1, 1, 1, 0, 0, 1, 0, 1, 1, 0, 1, 0, 1, 0, 0, 1, 0, 0, 1,\n",
       "       0, 1, 0, 1, 0, 1, 1, 1, 0, 1, 0, 0, 1, 1, 1, 0, 0, 1, 1, 1, 0, 1,\n",
       "       1, 0, 1, 0, 0, 0, 1, 0, 1, 0, 0, 1, 0, 0, 0, 1, 0, 0, 0, 0, 0, 0,\n",
       "       0, 1, 1, 0, 1, 1, 0, 0, 1, 1, 0, 1, 1, 0, 1, 1, 1, 1, 1, 0, 1, 0,\n",
       "       1, 0, 1, 1, 0, 1, 0, 1, 0, 1, 1, 0, 1, 1, 0, 0, 1, 0, 0, 1, 0, 0,\n",
       "       1, 0, 0, 0, 1, 1, 0, 1, 0, 1, 1, 1, 0, 1, 1, 0, 1, 1, 0, 0, 1, 1,\n",
       "       0, 1, 1, 0, 1, 0, 1, 0, 1, 0, 0, 0, 0, 0, 1, 1, 1, 1, 0, 1, 0, 1,\n",
       "       1, 0, 1, 1, 1, 1, 0])"
      ]
     },
     "execution_count": 36,
     "metadata": {},
     "output_type": "execute_result"
    }
   ],
   "source": [
    "labels = model.predict(X_test)\n",
    "labels"
   ]
  },
  {
   "cell_type": "code",
   "execution_count": 37,
   "id": "3667ed7d-9136-40fb-8a74-1a3c38d97b07",
   "metadata": {
    "tags": []
   },
   "outputs": [
    {
     "data": {
      "image/png": "[encoded data removed]"
     },
     "metadata": {},
     "output_type": "display_data"
    }
   ],
   "source": [
    "fig = model.plot_clusters()\n",
    "fig.show('png')"
   ]
  },
  {
   "cell_type": "markdown",
   "id": "2a0e05fb-babb-4453-886a-c15e210bbcd6",
   "metadata": {},
   "source": [
    "### More training set's clusterization results, from all other model fits. "
   ]
  },
  {
   "cell_type": "code",
   "execution_count": 39,
   "id": "0719c4a2-9a38-4744-9104-64fcfc77e57a",
   "metadata": {},
   "outputs": [
    {
     "data": {
      "image/png": "[encoded data removed]"
     },
     "metadata": {},
     "output_type": "display_data"
    }
   ],
   "source": [
    "fig = model.plot_clusters(n_cluster=3, n_fit=0)\n",
    "fig.show('png')"
   ]
  },
  {
   "cell_type": "code",
   "execution_count": 40,
   "id": "1c41aa8b-6446-40e9-bd72-b5c1edde7055",
   "metadata": {},
   "outputs": [
    {
     "data": {
      "image/png": "[encoded data removed]"
     },
     "metadata": {},
     "output_type": "display_data"
    }
   ],
   "source": [
    "fig = model.plot_clusters(n_cluster=3, n_fit=2)\n",
    "fig.show('png')"
   ]
  },
  {
   "cell_type": "markdown",
   "id": "4bf49aab-d29a-4bee-94de-c57ec3274dd6",
   "metadata": {},
   "source": [
    "### Details about fitted models. "
   ]
  },
  {
   "cell_type": "code",
   "execution_count": 47,
   "id": "2ed1a5ee-8c94-441d-9377-7ca1518c46b1",
   "metadata": {
    "tags": []
   },
   "outputs": [
    {
     "data": {
      "text/html": [
       "<div>\n",
       "<style scoped>\n",
       "    .dataframe tbody tr th:only-of-type {\n",
       "        vertical-align: middle;\n",
       "    }\n",
       "\n",
       "    .dataframe tbody tr th {\n",
       "        vertical-align: top;\n",
       "    }\n",
       "\n",
       "    .dataframe thead th {\n",
       "        text-align: right;\n",
       "    }\n",
       "</style>\n",
       "<table border=\"1\" class=\"dataframe\">\n",
       "  <thead>\n",
       "    <tr style=\"text-align: right;\">\n",
       "      <th></th>\n",
       "      <th>n_clusters</th>\n",
       "      <th>idx</th>\n",
       "      <th>cindex_val</th>\n",
       "      <th>cindex</th>\n",
       "      <th>integrated_nbll_val</th>\n",
       "      <th>integrated_nbll</th>\n",
       "      <th>integrated_brier_score_val</th>\n",
       "      <th>integrated_brier_score</th>\n",
       "    </tr>\n",
       "  </thead>\n",
       "  <tbody>\n",
       "    <tr>\n",
       "      <th>0</th>\n",
       "      <td>2</td>\n",
       "      <td>0</td>\n",
       "      <td>0.661802</td>\n",
       "      <td>0.709931</td>\n",
       "      <td>0.452226</td>\n",
       "      <td>0.411581</td>\n",
       "      <td>0.150117</td>\n",
       "      <td>0.135152</td>\n",
       "    </tr>\n",
       "    <tr>\n",
       "      <th>0</th>\n",
       "      <td>2</td>\n",
       "      <td>1</td>\n",
       "      <td>0.840069</td>\n",
       "      <td>0.853656</td>\n",
       "      <td>0.378224</td>\n",
       "      <td>0.369325</td>\n",
       "      <td>0.120750</td>\n",
       "      <td>0.115812</td>\n",
       "    </tr>\n",
       "    <tr>\n",
       "      <th>0</th>\n",
       "      <td>2</td>\n",
       "      <td>2</td>\n",
       "      <td>0.600012</td>\n",
       "      <td>0.590093</td>\n",
       "      <td>0.488695</td>\n",
       "      <td>0.476971</td>\n",
       "      <td>0.164742</td>\n",
       "      <td>0.160368</td>\n",
       "    </tr>\n",
       "    <tr>\n",
       "      <th>0</th>\n",
       "      <td>3</td>\n",
       "      <td>0</td>\n",
       "      <td>0.722465</td>\n",
       "      <td>0.732264</td>\n",
       "      <td>0.448089</td>\n",
       "      <td>0.425767</td>\n",
       "      <td>0.149320</td>\n",
       "      <td>0.140919</td>\n",
       "    </tr>\n",
       "    <tr>\n",
       "      <th>0</th>\n",
       "      <td>3</td>\n",
       "      <td>1</td>\n",
       "      <td>0.692621</td>\n",
       "      <td>0.699987</td>\n",
       "      <td>0.455061</td>\n",
       "      <td>0.432944</td>\n",
       "      <td>0.153249</td>\n",
       "      <td>0.144853</td>\n",
       "    </tr>\n",
       "    <tr>\n",
       "      <th>0</th>\n",
       "      <td>3</td>\n",
       "      <td>2</td>\n",
       "      <td>0.640608</td>\n",
       "      <td>0.666253</td>\n",
       "      <td>0.502544</td>\n",
       "      <td>0.472114</td>\n",
       "      <td>0.170035</td>\n",
       "      <td>0.159437</td>\n",
       "    </tr>\n",
       "    <tr>\n",
       "      <th>0</th>\n",
       "      <td>5</td>\n",
       "      <td>0</td>\n",
       "      <td>0.654771</td>\n",
       "      <td>0.697601</td>\n",
       "      <td>0.506296</td>\n",
       "      <td>0.455746</td>\n",
       "      <td>0.169393</td>\n",
       "      <td>0.152112</td>\n",
       "    </tr>\n",
       "    <tr>\n",
       "      <th>0</th>\n",
       "      <td>5</td>\n",
       "      <td>1</td>\n",
       "      <td>0.702790</td>\n",
       "      <td>0.706180</td>\n",
       "      <td>0.452694</td>\n",
       "      <td>0.434623</td>\n",
       "      <td>0.151357</td>\n",
       "      <td>0.144505</td>\n",
       "    </tr>\n",
       "  </tbody>\n",
       "</table>\n",
       "</div>"
      ],
      "text/plain": [
       "  n_clusters idx  cindex_val    cindex  integrated_nbll_val  integrated_nbll  \\\n",
       "0          2   0    0.661802  0.709931             0.452226         0.411581   \n",
       "0          2   1    0.840069  0.853656             0.378224         0.369325   \n",
       "0          2   2    0.600012  0.590093             0.488695         0.476971   \n",
       "0          3   0    0.722465  0.732264             0.448089         0.425767   \n",
       "0          3   1    0.692621  0.699987             0.455061         0.432944   \n",
       "0          3   2    0.640608  0.666253             0.502544         0.472114   \n",
       "0          5   0    0.654771  0.697601             0.506296         0.455746   \n",
       "0          5   1    0.702790  0.706180             0.452694         0.434623   \n",
       "\n",
       "   integrated_brier_score_val  integrated_brier_score  \n",
       "0                    0.150117                0.135152  \n",
       "0                    0.120750                0.115812  \n",
       "0                    0.164742                0.160368  \n",
       "0                    0.149320                0.140919  \n",
       "0                    0.153249                0.144853  \n",
       "0                    0.170035                0.159437  \n",
       "0                    0.169393                0.152112  \n",
       "0                    0.151357                0.144505  "
      ]
     },
     "execution_count": 47,
     "metadata": {},
     "output_type": "execute_result"
    }
   ],
   "source": [
    "from SurvMixClust.utils import info_flat_from_info_list_K, best_model_keys_from_info_list_K\n",
    "\n",
    "info_flat = info_flat_from_info_list_K(model.info_list_K)\n",
    "\n",
    "info_flat"
   ]
  },
  {
   "cell_type": "code",
   "execution_count": 48,
   "id": "b2e490eb-f625-4e13-b708-680ad5d3e2d1",
   "metadata": {},
   "outputs": [
    {
     "data": {
      "text/plain": [
       "(2, 1)"
      ]
     },
     "execution_count": 48,
     "metadata": {},
     "output_type": "execute_result"
    }
   ],
   "source": [
    "best_model_keys_from_info_list_K(model.info_list_K)"
   ]
  }
 ],
 "metadata": {
  "kernelspec": {
   "display_name": ".venv",
   "language": "python",
   "name": "python3"
  },
  "language_info": {
   "codemirror_mode": {
    "name": "ipython",
    "version": 3
   },
   "file_extension": ".py",
   "mimetype": "text/x-python",
   "name": "python",
   "nbconvert_exporter": "python",
   "pygments_lexer": "ipython3",
   "version": "3.12.3"
  }
 },
 "nbformat": 4,
 "nbformat_minor": 5
}
